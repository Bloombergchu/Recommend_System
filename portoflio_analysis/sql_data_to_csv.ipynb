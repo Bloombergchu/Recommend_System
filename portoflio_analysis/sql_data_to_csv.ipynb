{
 "cells": [
  {
   "cell_type": "code",
   "execution_count": 2,
   "metadata": {},
   "outputs": [
    {
     "name": "stdout",
     "output_type": "stream",
     "text": [
      "connect successfully!\n"
     ]
    }
   ],
   "source": [
    "import pymysql\n",
    "import pandas as pd\n",
    "\n",
    "\n",
    "host='localhost'\n",
    "user='root'  \n",
    "password='jiang19951015'\n",
    "database='analytics_warehouse_demo'\n",
    "\n",
    "try:\n",
    "    conn=pymysql.connect(host,user,password,database)\n",
    "    print('connect successfully!')\n",
    "except pymysql.Error as e:\n",
    "    print('disconnect:'+str(e))\n",
    "    \n",
    "sql = '''\n",
    "SELECT d.*,a.product_dim_key, a.quantity,b.product_type, b.brand, b.color, b.category,b.product_name FROM analytics_warehouse_demo.ORDER_ITEM_FACT a \n",
    "                        left join analytics_warehouse_demo.PRODUCT_DIMENSION b on a.PRODUCT_DIM_KEY=b.PRODUCT_DIM_KEY\n",
    "                        left join DATE_DIMENSION d on a.order_date_key=d.date_dim_key\n",
    "                        where a.RESOLUTION_STATUS in ('Completed','Pending') and a.Quantity>=0 and truncate(a.quantity,1)= floor(a.quantity);\n",
    "\n",
    "'''\n",
    "df = pd.read_sql(sql,con=conn)\n",
    "df.to_csv('out.csv')"
   ]
  },
  {
   "cell_type": "code",
   "execution_count": null,
   "metadata": {},
   "outputs": [],
   "source": []
  }
 ],
 "metadata": {
  "kernelspec": {
   "display_name": "Python 3",
   "language": "python",
   "name": "python3"
  },
  "language_info": {
   "codemirror_mode": {
    "name": "ipython",
    "version": 3
   },
   "file_extension": ".py",
   "mimetype": "text/x-python",
   "name": "python",
   "nbconvert_exporter": "python",
   "pygments_lexer": "ipython3",
   "version": "3.7.7"
  }
 },
 "nbformat": 4,
 "nbformat_minor": 2
}
