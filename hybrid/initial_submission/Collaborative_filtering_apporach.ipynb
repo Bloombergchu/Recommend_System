{
 "cells": [
  {
   "cell_type": "markdown",
   "metadata": {},
   "source": [
    "## Implicit collaborative filtering approaches"
   ]
  },
  {
   "cell_type": "markdown",
   "metadata": {},
   "source": [
    "### Background"
   ]
  },
  {
   "cell_type": "markdown",
   "metadata": {},
   "source": [
    "This is the development pipeline to apply the implicit item-based recommendation system algorithms for gracioustyle customers. The aim is to test and compare a few algorithms including  \n",
    "  \n",
    "* Alternating Least Square\n",
    "* Bayesian Personalized Ranking\n",
    "  \n",
    "The approaches above can be built into a hybrid CF approach, and further combined with the content based apporach as the optimized strategy. "
   ]
  },
  {
   "cell_type": "markdown",
   "metadata": {},
   "source": [
    "### Import libraries"
   ]
  },
  {
   "cell_type": "code",
   "execution_count": 1,
   "metadata": {},
   "outputs": [],
   "source": [
    "import pandas as pd\n",
    "import scipy.sparse as sparse\n",
    "import numpy as np\n",
    "from scipy.sparse.linalg import spsolve\n",
    "from pandas.api.types import CategoricalDtype\n",
    "import random\n",
    "import implicit\n",
    "from sklearn import metrics\n",
    "from sklearn.preprocessing import MinMaxScaler\n",
    "from sklearn.preprocessing import normalize\n",
    "\n",
    "from implicit.als import AlternatingLeastSquares\n",
    "from implicit.bpr import BayesianPersonalizedRanking\n",
    "from implicit.datasets.movielens import get_movielens\n",
    "from implicit.lmf import LogisticMatrixFactorization\n",
    "from implicit.nearest_neighbours import (BM25Recommender, CosineRecommender,\n",
    "                                         TFIDFRecommender, bm25_weight,tfidf_weight)\n",
    "import tqdm\n",
    "import codecs\n",
    "from tabulate import tabulate"
   ]
  },
  {
   "cell_type": "markdown",
   "metadata": {},
   "source": [
    "### Import data"
   ]
  },
  {
   "cell_type": "markdown",
   "metadata": {},
   "source": [
    "Order data has been merged with product table to build a master source data in json/csv format."
   ]
  },
  {
   "cell_type": "code",
   "execution_count": 2,
   "metadata": {},
   "outputs": [],
   "source": [
    "retail_data = pd.read_json('C:/Projects/DJ_projects/FP-growth/recommendation_engine/development/hybrid/data/cus_user_quality_date_0716.json') # This may take a couple minutes\n",
    "# df2 = pd.read_csv('data/product_brand_type_color.csv') # This may take a couple minutes"
   ]
  },
  {
   "cell_type": "code",
   "execution_count": 3,
   "metadata": {},
   "outputs": [
    {
     "name": "stdout",
     "output_type": "stream",
     "text": [
      "<class 'pandas.core.frame.DataFrame'>\n",
      "RangeIndex: 120442 entries, 0 to 120441\n",
      "Data columns (total 10 columns):\n",
      " #   Column             Non-Null Count   Dtype  \n",
      "---  ------             --------------   -----  \n",
      " 0   CUSTOMER_DIM_KEY   120442 non-null  int64  \n",
      " 1   PRODUCT_DIM_KEY    120442 non-null  int64  \n",
      " 2   QUANTITY           120441 non-null  float64\n",
      " 3   PRODUCT_NAME       120435 non-null  object \n",
      " 4   COLOR              120442 non-null  object \n",
      " 5   PRODUCT_TYPE       120442 non-null  object \n",
      " 6   CATEGORY           120442 non-null  object \n",
      " 7   BRAND              120442 non-null  object \n",
      " 8   RESOLUTION_STATUS  120442 non-null  object \n",
      " 9   ORDER_DATE_KEY     120442 non-null  int64  \n",
      "dtypes: float64(1), int64(3), object(6)\n",
      "memory usage: 9.2+ MB\n"
     ]
    }
   ],
   "source": [
    "retail_data.info()"
   ]
  },
  {
   "cell_type": "markdown",
   "metadata": {},
   "source": [
    "Some data subseting has been done based on the following conditions,  \n",
    "  \n",
    "* Only contains the order history on products that have had orders since 2018. This is used as a proxy as the current product catelogue. \n",
    "* Resolution status in 'Completed' or 'Pending'.\n",
    "* De-duplicate the identical rows."
   ]
  },
  {
   "cell_type": "code",
   "execution_count": 4,
   "metadata": {},
   "outputs": [
    {
     "name": "stdout",
     "output_type": "stream",
     "text": [
      "Duplicated rows: 280\n"
     ]
    }
   ],
   "source": [
    "cleaned_retail = retail_data.loc[pd.isnull(retail_data.PRODUCT_NAME) == False]\n",
    "cleaned_retail = cleaned_retail[cleaned_retail['PRODUCT_DIM_KEY'].isin(cleaned_retail[cleaned_retail['ORDER_DATE_KEY'] > 17533].PRODUCT_DIM_KEY)]\n",
    "cleaned_retail['QUANTITY'] = cleaned_retail['QUANTITY'].fillna(0.0)\n",
    "cleaned_retail = cleaned_retail[cleaned_retail.RESOLUTION_STATUS.isin(['COMPLETED', 'PENDING'])]\n",
    "print('Duplicated rows: ' + str(cleaned_retail.duplicated().sum()))\n",
    "cleaned_retail.drop_duplicates(inplace=True)"
   ]
  },
  {
   "cell_type": "code",
   "execution_count": 5,
   "metadata": {},
   "outputs": [
    {
     "name": "stdout",
     "output_type": "stream",
     "text": [
      "<class 'pandas.core.frame.DataFrame'>\n",
      "Int64Index: 51810 entries, 0 to 120440\n",
      "Data columns (total 10 columns):\n",
      " #   Column             Non-Null Count  Dtype  \n",
      "---  ------             --------------  -----  \n",
      " 0   CUSTOMER_DIM_KEY   51810 non-null  int64  \n",
      " 1   PRODUCT_DIM_KEY    51810 non-null  int64  \n",
      " 2   QUANTITY           51810 non-null  float64\n",
      " 3   PRODUCT_NAME       51810 non-null  object \n",
      " 4   COLOR              51810 non-null  object \n",
      " 5   PRODUCT_TYPE       51810 non-null  object \n",
      " 6   CATEGORY           51810 non-null  object \n",
      " 7   BRAND              51810 non-null  object \n",
      " 8   RESOLUTION_STATUS  51810 non-null  object \n",
      " 9   ORDER_DATE_KEY     51810 non-null  int64  \n",
      "dtypes: float64(1), int64(3), object(6)\n",
      "memory usage: 4.3+ MB\n"
     ]
    }
   ],
   "source": [
    "cleaned_retail.info()"
   ]
  },
  {
   "cell_type": "code",
   "execution_count": 6,
   "metadata": {},
   "outputs": [
    {
     "data": {
      "text/plain": [
       "dinner plates                                                        2630\n",
       "table protectors                                                     2602\n",
       "coffee mugs & tea cups                                               1844\n",
       "Unknown                                                              1698\n",
       "tablecloths                                                          1628\n",
       "                                                                     ... \n",
       "dinner knives,dinner forks,dinner spoons,teaspoons,place settings       1\n",
       "coasters & trivets,bottle openers                                       1\n",
       "napkins,napkin holders                                                  1\n",
       "cocktail glasses,handle,spoons                                          1\n",
       "serving trays,serving trays                                             1\n",
       "Name: PRODUCT_TYPE, Length: 992, dtype: int64"
      ]
     },
     "execution_count": 6,
     "metadata": {},
     "output_type": "execute_result"
    }
   ],
   "source": [
    "cleaned_retail['PRODUCT_TYPE'].value_counts()"
   ]
  },
  {
   "cell_type": "markdown",
   "metadata": {},
   "source": [
    "### Threhold function for cut-off"
   ]
  },
  {
   "cell_type": "code",
   "execution_count": 7,
   "metadata": {},
   "outputs": [],
   "source": [
    "def threshold_likes(df, uid_min, mid_min, user_column = 'CUSTOMER_DIM_KEY', item_column = 'PRODUCT_DIM_KEY'):\n",
    "    n_users = df[user_column].unique().shape[0]\n",
    "    n_items = df[item_column].unique().shape[0]\n",
    "    sparsity = float(df.shape[0]) / float(n_users*n_items) * 100\n",
    "    print('Starting likes info')\n",
    "    print('Number of users: {}'.format(n_users))\n",
    "    print('Number of models: {}'.format(n_items))\n",
    "    print('Sparsity: {:4.3f}%'.format(sparsity))\n",
    "    \n",
    "    done = False\n",
    "    while not done:\n",
    "        starting_shape = df.shape[0]\n",
    "        mid_counts = df.groupby(user_column)[item_column].count()\n",
    "        df = df[~df[user_column].isin(mid_counts[mid_counts < mid_min].index.tolist())]\n",
    "        uid_counts = df.groupby(item_column)[user_column].count()\n",
    "        df = df[~df[item_column].isin(uid_counts[uid_counts < uid_min].index.tolist())]\n",
    "        ending_shape = df.shape[0]\n",
    "        if starting_shape == ending_shape:\n",
    "            done = True\n",
    "    \n",
    "    assert(df.groupby(user_column)[item_column].count().min() >= mid_min)\n",
    "    assert(df.groupby(item_column)[user_column].count().min() >= uid_min)\n",
    "    \n",
    "    n_users = df[user_column].unique().shape[0]\n",
    "    n_items = df[item_column].unique().shape[0]\n",
    "    sparsity = float(df.shape[0]) / float(n_users*n_items) * 100\n",
    "    print('Ending likes info')\n",
    "    print('Number of users: {}'.format(n_users))\n",
    "    print('Number of models: {}'.format(n_items))\n",
    "    print('Sparsity: {:4.3f}%'.format(sparsity))\n",
    "    return df"
   ]
  },
  {
   "cell_type": "markdown",
   "metadata": {},
   "source": [
    "### Product lookup table"
   ]
  },
  {
   "cell_type": "code",
   "execution_count": 8,
   "metadata": {},
   "outputs": [
    {
     "name": "stdout",
     "output_type": "stream",
     "text": [
      "Starting likes info\n",
      "Number of users: 27143\n",
      "Number of models: 17314\n",
      "Sparsity: 0.011%\n",
      "Ending likes info\n",
      "Number of users: 7088\n",
      "Number of models: 5368\n",
      "Sparsity: 0.064%\n"
     ]
    }
   ],
   "source": [
    "df_lim = threshold_likes(cleaned_retail, 2, 2)\n",
    "item_lookup = df_lim[['PRODUCT_DIM_KEY', 'PRODUCT_NAME']].drop_duplicates() # Only get unique item/description pairs\n",
    "#item_lookup['PRODUCT_DIM_KEY'] = item_lookup.PRODUCT_DIM_KEY.astype(str) # Encode as strings for future lookup ease"
   ]
  },
  {
   "cell_type": "markdown",
   "metadata": {},
   "source": [
    "### User-product matrix function"
   ]
  },
  {
   "cell_type": "code",
   "execution_count": 9,
   "metadata": {},
   "outputs": [],
   "source": [
    "def create_matrix(cleaned_retail, row_feature, col_feature):\n",
    "    cleaned_retail[row_feature] = cleaned_retail[row_feature].astype(int) # Convert to int for customer ID\n",
    "    cleaned_retail = cleaned_retail[[col_feature, 'QUANTITY', row_feature]] # Get rid of unnecessary info\n",
    "    grouped_cleaned = cleaned_retail.groupby([row_feature, col_feature]).sum().reset_index() # Group together\n",
    "    grouped_cleaned.QUANTITY.loc[grouped_cleaned.QUANTITY == 0] = 1 # Replace a sum of zero purchases with a one to\n",
    "    # indicate purchased\n",
    "    grouped_purchased = grouped_cleaned.query('QUANTITY > 0') # Only get customers where purchase totals were positive\n",
    "    \n",
    "    customers = list(np.sort(grouped_purchased[row_feature].unique())) # Get our unique customers\n",
    "    products = list(np.sort(grouped_purchased[col_feature].unique())) # Get our unique products that were purchased\n",
    "    quantity = list(grouped_purchased.QUANTITY) # All of our purchases\n",
    "    #print(products)\n",
    "    rows = grouped_purchased[row_feature].astype('category', CategoricalDtype(categories = customers)).cat.codes \n",
    "    # Get the associated row indices\n",
    "    cols = grouped_purchased[col_feature].astype('category', CategoricalDtype(categories = products)).cat.codes \n",
    "    # Get the associated column indices\n",
    "    purchases_sparse = sparse.csr_matrix((quantity, (rows, cols)), shape=(len(customers), len(products)))\n",
    "    return purchases_sparse, customers, products"
   ]
  },
  {
   "cell_type": "markdown",
   "metadata": {},
   "source": [
    "### Create user-product matrix"
   ]
  },
  {
   "cell_type": "code",
   "execution_count": 10,
   "metadata": {},
   "outputs": [
    {
     "name": "stderr",
     "output_type": "stream",
     "text": [
      "C:\\Users\\david_qi\\AppData\\Local\\Continuum\\anaconda3\\lib\\site-packages\\pandas\\core\\indexing.py:670: SettingWithCopyWarning: \n",
      "A value is trying to be set on a copy of a slice from a DataFrame\n",
      "\n",
      "See the caveats in the documentation: https://pandas.pydata.org/pandas-docs/stable/user_guide/indexing.html#returning-a-view-versus-a-copy\n",
      "  iloc._setitem_with_indexer(indexer, value)\n"
     ]
    }
   ],
   "source": [
    "purchases_sparse, products, customers = create_matrix(df_lim, 'PRODUCT_DIM_KEY', 'CUSTOMER_DIM_KEY')"
   ]
  },
  {
   "cell_type": "code",
   "execution_count": 11,
   "metadata": {},
   "outputs": [],
   "source": [
    "customers_arr = np.array(customers) # Array of customer IDs from the ratings matrix\n",
    "products_arr = np.array(products) # Array of product IDs from the ratings matrix"
   ]
  },
  {
   "cell_type": "code",
   "execution_count": 12,
   "metadata": {},
   "outputs": [
    {
     "data": {
      "text/plain": [
       "array([31785, 31786, 31795, ..., 83482, 83502, 83509], dtype=int64)"
      ]
     },
     "execution_count": 12,
     "metadata": {},
     "output_type": "execute_result"
    }
   ],
   "source": [
    "customers_arr"
   ]
  },
  {
   "cell_type": "code",
   "execution_count": 13,
   "metadata": {},
   "outputs": [
    {
     "data": {
      "text/plain": [
       "7088"
      ]
     },
     "execution_count": 13,
     "metadata": {},
     "output_type": "execute_result"
    }
   ],
   "source": [
    "len(set(customers_arr))"
   ]
  },
  {
   "cell_type": "markdown",
   "metadata": {},
   "source": [
    "### Train and test data prep"
   ]
  },
  {
   "cell_type": "code",
   "execution_count": 15,
   "metadata": {},
   "outputs": [],
   "source": [
    "def make_train(ratings, pct_test = 0.2):\n",
    "    '''\n",
    "    This function will take in the original user-item matrix and \"mask\" a percentage of the original ratings where a\n",
    "    user-item interaction has taken place for use as a test set. The test set will contain all of the original ratings, \n",
    "    while the training set replaces the specified percentage of them with a zero in the original ratings matrix. \n",
    "    \n",
    "    parameters: \n",
    "    \n",
    "    ratings - the original ratings matrix from which you want to generate a train/test set. Test is just a complete\n",
    "    copy of the original set. This is in the form of a sparse csr_matrix. \n",
    "    \n",
    "    pct_test - The percentage of user-item interactions where an interaction took place that you want to mask in the \n",
    "    training set for later comparison to the test set, which contains all of the original ratings. \n",
    "    \n",
    "    returns:\n",
    "    \n",
    "    training_set - The altered version of the original data with a certain percentage of the user-item pairs \n",
    "    that originally had interaction set back to zero.\n",
    "    \n",
    "    test_set - A copy of the original ratings matrix, unaltered, so it can be used to see how the rank order \n",
    "    compares with the actual interactions.\n",
    "    \n",
    "    user_inds - From the randomly selected user-item indices, which user rows were altered in the training data.\n",
    "    This will be necessary later when evaluating the performance via AUC.\n",
    "    '''\n",
    "    test_set = ratings.copy() # Make a copy of the original set to be the test set. \n",
    "    test_set[test_set != 0] = 1 # Store the test set as a binary preference matrix\n",
    "    training_set = ratings.copy() # Make a copy of the original data we can alter as our training set. \n",
    "    nonzero_inds = training_set.nonzero() # Find the indices in the ratings data where an interaction exists\n",
    "    nonzero_pairs = list(zip(nonzero_inds[0], nonzero_inds[1])) # Zip these pairs together of user,item index into list\n",
    "    random.seed(0) # Set the random seed to zero for reproducibility\n",
    "    num_samples = int(np.ceil(pct_test*len(nonzero_pairs))) # Round the number of samples needed to the nearest integer\n",
    "    samples = random.sample(nonzero_pairs, num_samples) # Sample a random number of user-item pairs without replacement\n",
    "    user_inds = [index[0] for index in samples] # Get the user row indices\n",
    "    item_inds = [index[1] for index in samples] # Get the item column indices\n",
    "    training_set[user_inds, item_inds] = 0 # Assign all of the randomly chosen user-item pairs to zero\n",
    "    training_set.eliminate_zeros() # Get rid of zeros in sparse array storage after update to save space\n",
    "    return training_set, test_set, list(set(user_inds)) # Output the unique list of user rows that were altered"
   ]
  },
  {
   "cell_type": "code",
   "execution_count": 16,
   "metadata": {},
   "outputs": [],
   "source": [
    "product_train, product_test, product_users_altered = make_train(purchases_sparse, pct_test = 0.2)"
   ]
  },
  {
   "cell_type": "markdown",
   "metadata": {},
   "source": [
    "### Function to calculate AUC (evaluation metric)"
   ]
  },
  {
   "cell_type": "code",
   "execution_count": 17,
   "metadata": {
    "scrolled": true
   },
   "outputs": [],
   "source": [
    "def auc_score(predictions, test):\n",
    "    '''\n",
    "    This simple function will output the area under the curve using sklearn's metrics. \n",
    "    \n",
    "    parameters:\n",
    "    \n",
    "    - predictions: your prediction output\n",
    "    \n",
    "    - test: the actual target result you are comparing to\n",
    "    \n",
    "    returns:\n",
    "    \n",
    "    - AUC (area under the Receiver Operating Characterisic curve)\n",
    "    '''\n",
    "    fpr, tpr, thresholds = metrics.roc_curve(test, predictions)\n",
    "    return metrics.auc(fpr, tpr) \n",
    "\n",
    "def calc_mean_auc(training_set, altered_users, predictions, test_set):\n",
    "    '''\n",
    "    This function will calculate the mean AUC by user for any user that had their user-item matrix altered. \n",
    "    \n",
    "    parameters:\n",
    "    \n",
    "    training_set - The training set resulting from make_train, where a certain percentage of the original\n",
    "    user/item interactions are reset to zero to hide them from the model \n",
    "    \n",
    "    predictions - The matrix of your predicted ratings for each user/item pair as output from the implicit MF.\n",
    "    These should be stored in a list, with user vectors as item zero and item vectors as item one. \n",
    "    \n",
    "    altered_users - The indices of the users where at least one user/item pair was altered from make_train function\n",
    "    \n",
    "    test_set - The test set constucted earlier from make_train function\n",
    "    \n",
    "    \n",
    "    \n",
    "    returns:\n",
    "    \n",
    "    The mean AUC (area under the Receiver Operator Characteristic curve) of the test set only on user-item interactions\n",
    "    there were originally zero to test ranking ability in addition to the most popular items as a benchmark.\n",
    "    '''\n",
    "    \n",
    "    \n",
    "    store_auc = [] # An empty list to store the AUC for each user that had an item removed from the training set\n",
    "    popularity_auc = [] # To store popular AUC scores\n",
    "    pop_items = np.array(test_set.sum(axis = 0)).reshape(-1) # Get sum of item iteractions to find most popular\n",
    "    item_vecs = predictions[1]\n",
    "    for user in altered_users: # Iterate through each user that had an item altered\n",
    "        training_row = training_set[user,:].toarray().reshape(-1) # Get the training set row\n",
    "        zero_inds = np.where(training_row == 0) # Find where the interaction had not yet occurred\n",
    "        # Get the predicted values based on our user/item vectors\n",
    "        user_vec = predictions[0][user,:]\n",
    "        pred = user_vec.dot(item_vecs).toarray()[0,zero_inds].reshape(-1)\n",
    "        # Get only the items that were originally zero\n",
    "        # Select all ratings from the MF prediction for this user that originally had no iteraction\n",
    "        actual = test_set[user,:].toarray()[0,zero_inds].reshape(-1) \n",
    "        # Select the binarized yes/no interaction pairs from the original full data\n",
    "        # that align with the same pairs in training \n",
    "        pop = pop_items[zero_inds] # Get the item popularity for our chosen items\n",
    "        store_auc.append(auc_score(pred, actual)) # Calculate AUC for the given user and store\n",
    "        popularity_auc.append(auc_score(pop, actual)) # Calculate AUC using most popular and score\n",
    "    # End users iteration\n",
    "    \n",
    "    return float('%.3f'%np.mean(store_auc)), float('%.3f'%np.mean(popularity_auc))  \n",
    "   # Return the mean AUC rounded to three decimal places for both test and popularity benchmark\n",
    "def calc_mean_auc_cv(training_set, altered_users, predictions, test_set):\n",
    "    '''\n",
    "    This function will calculate the mean AUC by user for any user that had their user-item matrix altered. \n",
    "    \n",
    "    parameters:\n",
    "    \n",
    "    training_set - The training set resulting from make_train, where a certain percentage of the original\n",
    "    user/item interactions are reset to zero to hide them from the model \n",
    "    \n",
    "    predictions - The matrix of your predicted ratings for each user/item pair as output from the implicit MF.\n",
    "    These should be stored in a list, with user vectors as item zero and item vectors as item one. \n",
    "    \n",
    "    altered_users - The indices of the users where at least one user/item pair was altered from make_train function\n",
    "    \n",
    "    test_set - The test set constucted earlier from make_train function\n",
    "    \n",
    "    \n",
    "    \n",
    "    returns:\n",
    "    \n",
    "    The mean AUC (area under the Receiver Operator Characteristic curve) of the test set only on user-item interactions\n",
    "    there were originally zero to test ranking ability in addition to the most popular items as a benchmark.\n",
    "    '''\n",
    "    \n",
    "    \n",
    "    store_auc = [] # An empty list to store the AUC for each user that had an item removed from the training set\n",
    "    item_vecs = predictions[1]\n",
    "    for user in altered_users: # Iterate through each user that had an item altered\n",
    "        training_row = training_set[user,:].toarray().reshape(-1) # Get the training set row\n",
    "        zero_inds = np.where(training_row == 0) # Find where the interaction had not yet occurred\n",
    "        # Get the predicted values based on our user/item vectors\n",
    "        user_vec = predictions[0][user,:]\n",
    "        pred = user_vec.dot(item_vecs).toarray()[0,zero_inds].reshape(-1)\n",
    "        # Get only the items that were originally zero\n",
    "        # Select all ratings from the MF prediction for this user that originally had no iteraction\n",
    "        actual = test_set[user,:].toarray()[0,zero_inds].reshape(-1) \n",
    "        # Select the binarized yes/no interaction pairs from the original full data\n",
    "        # that align with the same pairs in training \n",
    "        store_auc.append(auc_score(pred, actual)) # Calculate AUC for the given user and store\n",
    "    # End users iteration\n",
    "    \n",
    "    return float('%.3f'%np.mean(store_auc))  \n",
    "   # Return the mean AUC rounded to three decimal places for both test and popularity benchmark\n",
    "def calc_mean_auc_pop(training_set, altered_users, test_set):\n",
    "    '''\n",
    "    This function will calculate the mean AUC by user for any user that had their user-item matrix altered. \n",
    "    \n",
    "    parameters:\n",
    "    \n",
    "    training_set - The training set resulting from make_train, where a certain percentage of the original\n",
    "    user/item interactions are reset to zero to hide them from the model \n",
    "    \n",
    "    predictions - The matrix of your predicted ratings for each user/item pair as output from the implicit MF.\n",
    "    These should be stored in a list, with user vectors as item zero and item vectors as item one. \n",
    "    \n",
    "    altered_users - The indices of the users where at least one user/item pair was altered from make_train function\n",
    "    \n",
    "    test_set - The test set constucted earlier from make_train function\n",
    "    \n",
    "    \n",
    "    \n",
    "    returns:\n",
    "    \n",
    "    The mean AUC (area under the Receiver Operator Characteristic curve) of the test set only on user-item interactions\n",
    "    there were originally zero to test ranking ability in addition to the most popular items as a benchmark.\n",
    "    '''\n",
    "    \n",
    "    popularity_auc = [] # To store popular AUC scores\n",
    "    pop_items = np.array(test_set.sum(axis = 0)).reshape(-1) # Get sum of item iteractions to find most popular\n",
    "    for user in altered_users: # Iterate through each user that had an item altered\n",
    "        training_row = training_set[user,:].toarray().reshape(-1) # Get the training set row\n",
    "        zero_inds = np.where(training_row == 0) # Find where the interaction had not yet occurred\n",
    "        actual = test_set[user,:].toarray()[0,zero_inds].reshape(-1) \n",
    "        pop = pop_items[zero_inds] # Get the item popularity for our chosen items\n",
    "        popularity_auc.append(auc_score(pop, actual)) # Calculate AUC using most popular and score\n",
    "    \n",
    "    return float('%.3f'%np.mean(popularity_auc))  \n",
    "   # Return the mean AUC rounded to three decimal places for both test and popularity benchmark\n",
    "'''\n",
    "param_grid = {'num_factors': [10, 20, 40, 80, 120],\n",
    "              'regularization': [0.0, 1e-5, 1e-3, 1e-1, 1e1, 1e2],\n",
    "              'alpha': [1, 10, 50, 100, 500, 1000]}\n",
    "'''\n",
    "\n",
    "param_grid = {'num_factors': [10, 20, 40, 80, 120],\n",
    "              'regularization': [0.0, 1e-5, 1e-3, 1e-1],\n",
    "              'alpha': [1, 10, 50, 100]}\n",
    "\n",
    "def cross_validation_als(sparse_matrix, model_name, param_grid, pct_test=0.2):\n",
    "    product_train, product_test, product_users_altered = make_train(sparse_matrix, pct_test = pct_test)\n",
    "    #product_train, product_out_test, product_users_out_altered = make_train(purchases_sparse, pct_test = 0.2)\n",
    "    #product_train, product_test, product_users_altered = make_train(product_train, pct_test = 0.2)\n",
    "    # item_vecs, user_vecs, model = train_model(training_set, model_name)\n",
    "    training_set = (bm25_weight(product_train, B=0.9)).tocsr()\n",
    "\n",
    "    model = AlternatingLeastSquares()\n",
    "    pop_auc = calc_mean_auc_pop(product_train, product_users_altered, product_test)\n",
    "\n",
    "    best_auc = 0\n",
    "    best_factors = 0\n",
    "    best_reg = 0\n",
    "    best_alpha = 0\n",
    "    best_model = model\n",
    "    print('The mean AUC of popularity benchmark: ', pop_auc)\n",
    "    for factor in param_grid['num_factors']:\n",
    "        for regu in param_grid['regularization']:\n",
    "            for alpha in param_grid['alpha']:\n",
    "                model = AlternatingLeastSquares(factors = factor, regularization = regu)\n",
    "                model.fit(training_set*alpha)\n",
    "                item_vecs = model.user_factors\n",
    "                user_vecs = model.item_factors\n",
    "                store_auc = calc_mean_auc_cv(product_train, product_users_altered, [sparse.csr_matrix(user_vecs), sparse.csr_matrix(item_vecs.T)], product_test)\n",
    "                print(factor, regu, alpha, store_auc)\n",
    "                \n",
    "                if store_auc > best_auc:\n",
    "                    best_auc = store_auc\n",
    "                    best_factors = factor\n",
    "                    best_reg = regu\n",
    "                    best_alpha = alpha\n",
    "                    best_model = model\n",
    "                    \n",
    "    print('Best AUC: ', best_auc)\n",
    "    print('Pop AUC: ', pop_auc)\n",
    "    print('Best factor: ', best_factors)\n",
    "    print('Best regularization: ', best_reg)\n",
    "    print('Best alpha: ', best_alpha)\n",
    "    return best_auc, pop_auc, best_factors, best_reg, best_alpha\n",
    "    # print(\"trained model '%s' in %s\", model_name, time.time() - start)"
   ]
  },
  {
   "cell_type": "markdown",
   "metadata": {},
   "source": [
    "### ALS hyper tuning with cross validation"
   ]
  },
  {
   "cell_type": "code",
   "execution_count": 29,
   "metadata": {
    "scrolled": true
   },
   "outputs": [
    {
     "name": "stdout",
     "output_type": "stream",
     "text": [
      "The mean AUC of popularity benchmark:  0.674\n"
     ]
    },
    {
     "data": {
      "application/vnd.jupyter.widget-view+json": {
       "model_id": "0f3a537612da4aa8976b6be9ddc7142e",
       "version_major": 2,
       "version_minor": 0
      },
      "text/plain": [
       "HBox(children=(FloatProgress(value=0.0, max=15.0), HTML(value='')))"
      ]
     },
     "metadata": {},
     "output_type": "display_data"
    },
    {
     "name": "stdout",
     "output_type": "stream",
     "text": [
      "\n",
      "10 0.1 1 0.748\n"
     ]
    },
    {
     "data": {
      "application/vnd.jupyter.widget-view+json": {
       "model_id": "d926413e959b43f8b016a192a8e08925",
       "version_major": 2,
       "version_minor": 0
      },
      "text/plain": [
       "HBox(children=(FloatProgress(value=0.0, max=15.0), HTML(value='')))"
      ]
     },
     "metadata": {},
     "output_type": "display_data"
    },
    {
     "name": "stdout",
     "output_type": "stream",
     "text": [
      "\n"
     ]
    },
    {
     "ename": "KeyboardInterrupt",
     "evalue": "",
     "output_type": "error",
     "traceback": [
      "\u001b[1;31m---------------------------------------------------------------------------\u001b[0m",
      "\u001b[1;31mKeyboardInterrupt\u001b[0m                         Traceback (most recent call last)",
      "\u001b[1;32m<ipython-input-29-64807e27174d>\u001b[0m in \u001b[0;36m<module>\u001b[1;34m\u001b[0m\n\u001b[1;32m----> 1\u001b[1;33m \u001b[0mcross_validation_als\u001b[0m\u001b[1;33m(\u001b[0m\u001b[0mpurchases_sparse\u001b[0m\u001b[1;33m,\u001b[0m \u001b[1;34m'als'\u001b[0m\u001b[1;33m,\u001b[0m \u001b[0mparam_grid\u001b[0m\u001b[1;33m)\u001b[0m\u001b[1;33m\u001b[0m\u001b[1;33m\u001b[0m\u001b[0m\n\u001b[0m",
      "\u001b[1;32m<ipython-input-17-41d7b7e1a402>\u001b[0m in \u001b[0;36mcross_validation_als\u001b[1;34m(sparse_matrix, model_name, param_grid, pct_test)\u001b[0m\n\u001b[0;32m    174\u001b[0m                 \u001b[0mitem_vecs\u001b[0m \u001b[1;33m=\u001b[0m \u001b[0mmodel\u001b[0m\u001b[1;33m.\u001b[0m\u001b[0muser_factors\u001b[0m\u001b[1;33m\u001b[0m\u001b[1;33m\u001b[0m\u001b[0m\n\u001b[0;32m    175\u001b[0m                 \u001b[0muser_vecs\u001b[0m \u001b[1;33m=\u001b[0m \u001b[0mmodel\u001b[0m\u001b[1;33m.\u001b[0m\u001b[0mitem_factors\u001b[0m\u001b[1;33m\u001b[0m\u001b[1;33m\u001b[0m\u001b[0m\n\u001b[1;32m--> 176\u001b[1;33m                 \u001b[0mstore_auc\u001b[0m \u001b[1;33m=\u001b[0m \u001b[0mcalc_mean_auc_cv\u001b[0m\u001b[1;33m(\u001b[0m\u001b[0mproduct_train\u001b[0m\u001b[1;33m,\u001b[0m \u001b[0mproduct_users_altered\u001b[0m\u001b[1;33m,\u001b[0m \u001b[1;33m[\u001b[0m\u001b[0msparse\u001b[0m\u001b[1;33m.\u001b[0m\u001b[0mcsr_matrix\u001b[0m\u001b[1;33m(\u001b[0m\u001b[0muser_vecs\u001b[0m\u001b[1;33m)\u001b[0m\u001b[1;33m,\u001b[0m \u001b[0msparse\u001b[0m\u001b[1;33m.\u001b[0m\u001b[0mcsr_matrix\u001b[0m\u001b[1;33m(\u001b[0m\u001b[0mitem_vecs\u001b[0m\u001b[1;33m.\u001b[0m\u001b[0mT\u001b[0m\u001b[1;33m)\u001b[0m\u001b[1;33m]\u001b[0m\u001b[1;33m,\u001b[0m \u001b[0mproduct_test\u001b[0m\u001b[1;33m)\u001b[0m\u001b[1;33m\u001b[0m\u001b[1;33m\u001b[0m\u001b[0m\n\u001b[0m\u001b[0;32m    177\u001b[0m                 \u001b[0mprint\u001b[0m\u001b[1;33m(\u001b[0m\u001b[0mfactor\u001b[0m\u001b[1;33m,\u001b[0m \u001b[0mregu\u001b[0m\u001b[1;33m,\u001b[0m \u001b[0malpha\u001b[0m\u001b[1;33m,\u001b[0m \u001b[0mstore_auc\u001b[0m\u001b[1;33m)\u001b[0m\u001b[1;33m\u001b[0m\u001b[1;33m\u001b[0m\u001b[0m\n\u001b[0;32m    178\u001b[0m \u001b[1;33m\u001b[0m\u001b[0m\n",
      "\u001b[1;32m<ipython-input-17-41d7b7e1a402>\u001b[0m in \u001b[0;36mcalc_mean_auc_cv\u001b[1;34m(training_set, altered_users, predictions, test_set)\u001b[0m\n\u001b[0;32m     92\u001b[0m     \u001b[1;32mfor\u001b[0m \u001b[0muser\u001b[0m \u001b[1;32min\u001b[0m \u001b[0maltered_users\u001b[0m\u001b[1;33m:\u001b[0m \u001b[1;31m# Iterate through each user that had an item altered\u001b[0m\u001b[1;33m\u001b[0m\u001b[1;33m\u001b[0m\u001b[0m\n\u001b[0;32m     93\u001b[0m         \u001b[0mtraining_row\u001b[0m \u001b[1;33m=\u001b[0m \u001b[0mtraining_set\u001b[0m\u001b[1;33m[\u001b[0m\u001b[0muser\u001b[0m\u001b[1;33m,\u001b[0m\u001b[1;33m:\u001b[0m\u001b[1;33m]\u001b[0m\u001b[1;33m.\u001b[0m\u001b[0mtoarray\u001b[0m\u001b[1;33m(\u001b[0m\u001b[1;33m)\u001b[0m\u001b[1;33m.\u001b[0m\u001b[0mreshape\u001b[0m\u001b[1;33m(\u001b[0m\u001b[1;33m-\u001b[0m\u001b[1;36m1\u001b[0m\u001b[1;33m)\u001b[0m \u001b[1;31m# Get the training set row\u001b[0m\u001b[1;33m\u001b[0m\u001b[1;33m\u001b[0m\u001b[0m\n\u001b[1;32m---> 94\u001b[1;33m         \u001b[0mzero_inds\u001b[0m \u001b[1;33m=\u001b[0m \u001b[0mnp\u001b[0m\u001b[1;33m.\u001b[0m\u001b[0mwhere\u001b[0m\u001b[1;33m(\u001b[0m\u001b[0mtraining_row\u001b[0m \u001b[1;33m==\u001b[0m \u001b[1;36m0\u001b[0m\u001b[1;33m)\u001b[0m \u001b[1;31m# Find where the interaction had not yet occurred\u001b[0m\u001b[1;33m\u001b[0m\u001b[1;33m\u001b[0m\u001b[0m\n\u001b[0m\u001b[0;32m     95\u001b[0m         \u001b[1;31m# Get the predicted values based on our user/item vectors\u001b[0m\u001b[1;33m\u001b[0m\u001b[1;33m\u001b[0m\u001b[1;33m\u001b[0m\u001b[0m\n\u001b[0;32m     96\u001b[0m         \u001b[0muser_vec\u001b[0m \u001b[1;33m=\u001b[0m \u001b[0mpredictions\u001b[0m\u001b[1;33m[\u001b[0m\u001b[1;36m0\u001b[0m\u001b[1;33m]\u001b[0m\u001b[1;33m[\u001b[0m\u001b[0muser\u001b[0m\u001b[1;33m,\u001b[0m\u001b[1;33m:\u001b[0m\u001b[1;33m]\u001b[0m\u001b[1;33m\u001b[0m\u001b[1;33m\u001b[0m\u001b[0m\n",
      "\u001b[1;32m<__array_function__ internals>\u001b[0m in \u001b[0;36mwhere\u001b[1;34m(*args, **kwargs)\u001b[0m\n",
      "\u001b[1;31mKeyboardInterrupt\u001b[0m: "
     ]
    }
   ],
   "source": [
    "cross_validation_als(purchases_sparse, 'als', param_grid)"
   ]
  },
  {
   "cell_type": "markdown",
   "metadata": {},
   "source": [
    "### ALS best fitting"
   ]
  },
  {
   "cell_type": "code",
   "execution_count": 19,
   "metadata": {},
   "outputs": [
    {
     "name": "stderr",
     "output_type": "stream",
     "text": [
      "WARNING:root:Intel MKL BLAS detected. Its highly recommend to set the environment variable 'export MKL_NUM_THREADS=1' to disable its internal multithreading\n"
     ]
    },
    {
     "data": {
      "application/vnd.jupyter.widget-view+json": {
       "model_id": "66e4b6716d2d45a4b5b4eb5df028ab4f",
       "version_major": 2,
       "version_minor": 0
      },
      "text/plain": [
       "HBox(children=(FloatProgress(value=0.0, max=15.0), HTML(value='')))"
      ]
     },
     "metadata": {},
     "output_type": "display_data"
    },
    {
     "name": "stdout",
     "output_type": "stream",
     "text": [
      "\n"
     ]
    },
    {
     "data": {
      "text/plain": [
       "(0.774, 0.674)"
      ]
     },
     "execution_count": 19,
     "metadata": {},
     "output_type": "execute_result"
    }
   ],
   "source": [
    "model = AlternatingLeastSquares(factors=80,regularization=0.0001)\n",
    "# The literature suggests values between 0 and 3 for K1 and 0 and 1 for B. \n",
    "ratings = bm25_weight(product_train, K1= 0.1, B=1).tocsr()\n",
    "model.fit(ratings)\n",
    "item_vecs = model.user_factors\n",
    "user_vecs = model.item_factors\n",
    "store_auc, pop_auc = calc_mean_auc(product_train, product_users_altered, [sparse.csr_matrix(user_vecs), sparse.csr_matrix(item_vecs.T)], product_test)\n",
    "store_auc, pop_auc"
   ]
  },
  {
   "cell_type": "code",
   "execution_count": 33,
   "metadata": {},
   "outputs": [],
   "source": [
    "param_grid = {'B': [0.1, 0.5, 1, 2, 3],\n",
    "              'K1': [0, 0.1, 0.01, 1]\n",
    "             }\n",
    "\n",
    "def cross_validation_als_bm25_param(sparse_matrix, model_name, param_grid, pct_test=0.2):\n",
    "    product_train, product_test, product_users_altered = make_train(sparse_matrix, pct_test = pct_test)\n",
    "    #product_train, product_out_test, product_users_out_altered = make_train(purchases_sparse, pct_test = 0.2)\n",
    "    #product_train, product_test, product_users_altered = make_train(product_train, pct_test = 0.2)\n",
    "    # item_vecs, user_vecs, model = train_model(training_set, model_name)\n",
    "    training_set = (bm25_weight(product_train, B=0.9)).tocsr()\n",
    "\n",
    "    model = AlternatingLeastSquares()\n",
    "    pop_auc = calc_mean_auc_pop(product_train, product_users_altered, product_test)\n",
    "    best_auc=0\n",
    "    best_B = 0\n",
    "    best_K1 = 0\n",
    "    best_model = model\n",
    "    print('The mean AUC of popularity benchmark: ', pop_auc)\n",
    "    for B in param_grid['B']:\n",
    "        for K1 in param_grid['K1']:\n",
    "            training_set = (bm25_weight(product_train, B=B,K1=K1)).tocsr()\n",
    "            model = AlternatingLeastSquares(factors = 80, regularization = 0.0001)\n",
    "            model.fit(training_set)\n",
    "            item_vecs = model.user_factors\n",
    "            user_vecs = model.item_factors\n",
    "            store_auc = calc_mean_auc_cv(product_train, product_users_altered, [sparse.csr_matrix(user_vecs), sparse.csr_matrix(item_vecs.T)], product_test)\n",
    "            print(B, K1, store_auc)\n",
    "                \n",
    "            if store_auc > best_auc:\n",
    "                best_auc = store_auc\n",
    "                best_B = B\n",
    "                best_K1 = K1\n",
    "                best_model = model\n",
    "                    \n",
    "    print('Best AUC: ', best_auc)\n",
    "    print('Pop AUC: ', pop_auc)\n",
    "    print('Best B: ', best_B)\n",
    "    print('Best K1: ', best_K1)\n",
    "    return best_auc, pop_auc, best_B, best_K1, best_model\n",
    "    # print(\"trained model '%s' in %s\", model_name, time.time() - start)"
   ]
  },
  {
   "cell_type": "code",
   "execution_count": 34,
   "metadata": {},
   "outputs": [
    {
     "name": "stdout",
     "output_type": "stream",
     "text": [
      "The mean AUC of popularity benchmark:  0.674\n"
     ]
    },
    {
     "data": {
      "application/vnd.jupyter.widget-view+json": {
       "model_id": "c0790bab3dde4bbfa2d7a86ac96eb2a2",
       "version_major": 2,
       "version_minor": 0
      },
      "text/plain": [
       "HBox(children=(FloatProgress(value=0.0, max=15.0), HTML(value='')))"
      ]
     },
     "metadata": {},
     "output_type": "display_data"
    },
    {
     "name": "stdout",
     "output_type": "stream",
     "text": [
      "\n",
      "0.1 0 0.766\n"
     ]
    },
    {
     "data": {
      "application/vnd.jupyter.widget-view+json": {
       "model_id": "3ffc58e03b7648c2bdfbee307263dbd3",
       "version_major": 2,
       "version_minor": 0
      },
      "text/plain": [
       "HBox(children=(FloatProgress(value=0.0, max=15.0), HTML(value='')))"
      ]
     },
     "metadata": {},
     "output_type": "display_data"
    },
    {
     "name": "stdout",
     "output_type": "stream",
     "text": [
      "\n",
      "0.1 0.1 0.775\n"
     ]
    },
    {
     "data": {
      "application/vnd.jupyter.widget-view+json": {
       "model_id": "755e47f1224f4980974b3086852e3323",
       "version_major": 2,
       "version_minor": 0
      },
      "text/plain": [
       "HBox(children=(FloatProgress(value=0.0, max=15.0), HTML(value='')))"
      ]
     },
     "metadata": {},
     "output_type": "display_data"
    },
    {
     "name": "stdout",
     "output_type": "stream",
     "text": [
      "\n",
      "0.1 0.01 0.765\n"
     ]
    },
    {
     "data": {
      "application/vnd.jupyter.widget-view+json": {
       "model_id": "98edfa85c8574640918011ce73c17f5e",
       "version_major": 2,
       "version_minor": 0
      },
      "text/plain": [
       "HBox(children=(FloatProgress(value=0.0, max=15.0), HTML(value='')))"
      ]
     },
     "metadata": {},
     "output_type": "display_data"
    },
    {
     "name": "stdout",
     "output_type": "stream",
     "text": [
      "\n",
      "0.1 1 0.776\n"
     ]
    },
    {
     "data": {
      "application/vnd.jupyter.widget-view+json": {
       "model_id": "12b27e7737904d2daac7b8ec8a736c26",
       "version_major": 2,
       "version_minor": 0
      },
      "text/plain": [
       "HBox(children=(FloatProgress(value=0.0, max=15.0), HTML(value='')))"
      ]
     },
     "metadata": {},
     "output_type": "display_data"
    },
    {
     "name": "stdout",
     "output_type": "stream",
     "text": [
      "\n",
      "0.5 0 0.771\n"
     ]
    },
    {
     "data": {
      "application/vnd.jupyter.widget-view+json": {
       "model_id": "42d97b33f4484095b089a0e64cf93e33",
       "version_major": 2,
       "version_minor": 0
      },
      "text/plain": [
       "HBox(children=(FloatProgress(value=0.0, max=15.0), HTML(value='')))"
      ]
     },
     "metadata": {},
     "output_type": "display_data"
    },
    {
     "name": "stdout",
     "output_type": "stream",
     "text": [
      "\n",
      "0.5 0.1 0.772\n"
     ]
    },
    {
     "data": {
      "application/vnd.jupyter.widget-view+json": {
       "model_id": "a1589c81597e4ab7ac691a27564157d1",
       "version_major": 2,
       "version_minor": 0
      },
      "text/plain": [
       "HBox(children=(FloatProgress(value=0.0, max=15.0), HTML(value='')))"
      ]
     },
     "metadata": {},
     "output_type": "display_data"
    },
    {
     "name": "stdout",
     "output_type": "stream",
     "text": [
      "\n",
      "0.5 0.01 0.77\n"
     ]
    },
    {
     "data": {
      "application/vnd.jupyter.widget-view+json": {
       "model_id": "07179aa693b84b3a9a34ed194d7abb1a",
       "version_major": 2,
       "version_minor": 0
      },
      "text/plain": [
       "HBox(children=(FloatProgress(value=0.0, max=15.0), HTML(value='')))"
      ]
     },
     "metadata": {},
     "output_type": "display_data"
    },
    {
     "name": "stdout",
     "output_type": "stream",
     "text": [
      "\n",
      "0.5 1 0.785\n"
     ]
    },
    {
     "data": {
      "application/vnd.jupyter.widget-view+json": {
       "model_id": "5367eb8aac0340279a50601eaafe7193",
       "version_major": 2,
       "version_minor": 0
      },
      "text/plain": [
       "HBox(children=(FloatProgress(value=0.0, max=15.0), HTML(value='')))"
      ]
     },
     "metadata": {},
     "output_type": "display_data"
    },
    {
     "name": "stdout",
     "output_type": "stream",
     "text": [
      "\n",
      "1 0 0.769\n"
     ]
    },
    {
     "data": {
      "application/vnd.jupyter.widget-view+json": {
       "model_id": "c0d6eafa251040b89b97dc668916ac75",
       "version_major": 2,
       "version_minor": 0
      },
      "text/plain": [
       "HBox(children=(FloatProgress(value=0.0, max=15.0), HTML(value='')))"
      ]
     },
     "metadata": {},
     "output_type": "display_data"
    },
    {
     "name": "stdout",
     "output_type": "stream",
     "text": [
      "\n",
      "1 0.1 0.773\n"
     ]
    },
    {
     "data": {
      "application/vnd.jupyter.widget-view+json": {
       "model_id": "1b67b7702e16424ba20c81663774aa8a",
       "version_major": 2,
       "version_minor": 0
      },
      "text/plain": [
       "HBox(children=(FloatProgress(value=0.0, max=15.0), HTML(value='')))"
      ]
     },
     "metadata": {},
     "output_type": "display_data"
    },
    {
     "name": "stdout",
     "output_type": "stream",
     "text": [
      "\n",
      "1 0.01 0.768\n"
     ]
    },
    {
     "data": {
      "application/vnd.jupyter.widget-view+json": {
       "model_id": "d1167b2a0e4e467b9516b56f60b5e762",
       "version_major": 2,
       "version_minor": 0
      },
      "text/plain": [
       "HBox(children=(FloatProgress(value=0.0, max=15.0), HTML(value='')))"
      ]
     },
     "metadata": {},
     "output_type": "display_data"
    },
    {
     "name": "stdout",
     "output_type": "stream",
     "text": [
      "\n",
      "1 1 0.796\n"
     ]
    },
    {
     "data": {
      "application/vnd.jupyter.widget-view+json": {
       "model_id": "c0b4c83ce771456e9a15f6eb6d04fa50",
       "version_major": 2,
       "version_minor": 0
      },
      "text/plain": [
       "HBox(children=(FloatProgress(value=0.0, max=15.0), HTML(value='')))"
      ]
     },
     "metadata": {},
     "output_type": "display_data"
    },
    {
     "name": "stdout",
     "output_type": "stream",
     "text": [
      "\n",
      "2 0 0.771\n"
     ]
    },
    {
     "data": {
      "application/vnd.jupyter.widget-view+json": {
       "model_id": "ca7882b7f0af49f6936b340a29d116ff",
       "version_major": 2,
       "version_minor": 0
      },
      "text/plain": [
       "HBox(children=(FloatProgress(value=0.0, max=15.0), HTML(value='')))"
      ]
     },
     "metadata": {},
     "output_type": "display_data"
    },
    {
     "name": "stdout",
     "output_type": "stream",
     "text": [
      "\n",
      "2 0.1 0.781\n"
     ]
    },
    {
     "data": {
      "application/vnd.jupyter.widget-view+json": {
       "model_id": "793769824df247a3a83ab8608ff390a4",
       "version_major": 2,
       "version_minor": 0
      },
      "text/plain": [
       "HBox(children=(FloatProgress(value=0.0, max=15.0), HTML(value='')))"
      ]
     },
     "metadata": {},
     "output_type": "display_data"
    },
    {
     "name": "stdout",
     "output_type": "stream",
     "text": [
      "\n",
      "2 0.01 0.771\n"
     ]
    },
    {
     "data": {
      "application/vnd.jupyter.widget-view+json": {
       "model_id": "e1c8dea7da0941ac8e2e5739b904b9ea",
       "version_major": 2,
       "version_minor": 0
      },
      "text/plain": [
       "HBox(children=(FloatProgress(value=0.0, max=15.0), HTML(value='')))"
      ]
     },
     "metadata": {},
     "output_type": "display_data"
    },
    {
     "name": "stdout",
     "output_type": "stream",
     "text": [
      "\n",
      "2 1 0.783\n"
     ]
    },
    {
     "data": {
      "application/vnd.jupyter.widget-view+json": {
       "model_id": "f1d2dd74028a415bb0c85576b1cef435",
       "version_major": 2,
       "version_minor": 0
      },
      "text/plain": [
       "HBox(children=(FloatProgress(value=0.0, max=15.0), HTML(value='')))"
      ]
     },
     "metadata": {},
     "output_type": "display_data"
    },
    {
     "name": "stdout",
     "output_type": "stream",
     "text": [
      "\n",
      "3 0 0.772\n"
     ]
    },
    {
     "data": {
      "application/vnd.jupyter.widget-view+json": {
       "model_id": "06c52d13846543388dc257258a042243",
       "version_major": 2,
       "version_minor": 0
      },
      "text/plain": [
       "HBox(children=(FloatProgress(value=0.0, max=15.0), HTML(value='')))"
      ]
     },
     "metadata": {},
     "output_type": "display_data"
    },
    {
     "name": "stdout",
     "output_type": "stream",
     "text": [
      "\n",
      "3 0.1 0.783\n"
     ]
    },
    {
     "data": {
      "application/vnd.jupyter.widget-view+json": {
       "model_id": "1c5b625c6e4642eba39c308bf1d85ed2",
       "version_major": 2,
       "version_minor": 0
      },
      "text/plain": [
       "HBox(children=(FloatProgress(value=0.0, max=15.0), HTML(value='')))"
      ]
     },
     "metadata": {},
     "output_type": "display_data"
    },
    {
     "name": "stdout",
     "output_type": "stream",
     "text": [
      "\n",
      "3 0.01 0.773\n"
     ]
    },
    {
     "data": {
      "application/vnd.jupyter.widget-view+json": {
       "model_id": "01d5c71a6ab14c039ded750253cad330",
       "version_major": 2,
       "version_minor": 0
      },
      "text/plain": [
       "HBox(children=(FloatProgress(value=0.0, max=15.0), HTML(value='')))"
      ]
     },
     "metadata": {},
     "output_type": "display_data"
    },
    {
     "name": "stdout",
     "output_type": "stream",
     "text": [
      "\n",
      "3 1 0.669\n",
      "Best AUC:  0.796\n",
      "Pop AUC:  0.674\n",
      "Best B:  1\n",
      "Best K1:  1\n"
     ]
    },
    {
     "data": {
      "text/plain": [
       "(0.796, 0.674, 1, 1, <implicit.als.AlternatingLeastSquares at 0x2369c2bf808>)"
      ]
     },
     "execution_count": 34,
     "metadata": {},
     "output_type": "execute_result"
    }
   ],
   "source": [
    "cross_validation_als_bm25_param(purchases_sparse, 'als', param_grid)"
   ]
  },
  {
   "cell_type": "markdown",
   "metadata": {},
   "source": [
    "### BPR hyper tuning with cross validation"
   ]
  },
  {
   "cell_type": "code",
   "execution_count": 39,
   "metadata": {},
   "outputs": [],
   "source": [
    "'''\n",
    "param_grid = {'num_factors': [10, 20, 40, 80, 120],\n",
    "              'learning_rate': [1, 0.1, 0.01, 0.001]\n",
    "              'regularization': [0.0, 0.1,0.01,0.001,0.0001,10],\n",
    "              'alpha': [1, 10, 50, 100, 500, 1000]}\n",
    "'''\n",
    "\n",
    "param_grid = {'num_factors': [10, 20, 40, 80, 120],\n",
    "              'learning_rate': [0.1],\n",
    "              'regularization': [0.0, 0.1,0.01,0.001],\n",
    "              'alpha': [1, 10, 50, 100, 500]}\n",
    "\n",
    "def cross_validation_bpr(sparse_matrix, model_name, param_grid, pct_test=0.2):\n",
    "    product_train, product_test, product_users_altered = make_train(sparse_matrix, pct_test = pct_test)\n",
    "    # item_vecs, user_vecs, model = train_model(training_set, model_name)\n",
    "    if model_name == \"bpr\":\n",
    "        model = BayesianPersonalizedRanking()\n",
    "    if model_name == \"lmf\":\n",
    "        model = LogisticMatrixFactorization()\n",
    "        \n",
    "    training_set = product_train\n",
    "    best_auc = 0\n",
    "    best_factors = 0\n",
    "    best_reg = 0\n",
    "    best_alpha = 0\n",
    "    best_learning_rate = 0\n",
    "\n",
    "    for factor in param_grid['num_factors']:\n",
    "        for regu in param_grid['regularization']:\n",
    "            for lr in param_grid['learning_rate']:\n",
    "                for alpha in param_grid['alpha']:\n",
    "                    model = BayesianPersonalizedRanking(factors = factor,learning_rate= lr, regularization = regu)\n",
    "                    model.fit(training_set*alpha)\n",
    "                    item_vecs = model.user_factors\n",
    "                    user_vecs = model.item_factors\n",
    "                    store_auc = calc_mean_auc_cv(product_train, product_users_altered, [sparse.csr_matrix(user_vecs), sparse.csr_matrix(item_vecs.T)], product_test)\n",
    "                    print(factor, regu, lr, alpha, store_auc, pop_auc)\n",
    "\n",
    "                    if store_auc > best_auc:\n",
    "                        best_auc = store_auc\n",
    "                        best_factors = factor\n",
    "                        best_reg = regu\n",
    "                        best_alpha = alpha\n",
    "                        best_learning_rate = lr\n",
    "    print(best_auc, best_factors, best_learning_rate, best_reg, best_alpha)\n",
    "    return best_auc, best_factors,best_learning_rate, best_reg, best_alpha\n",
    "    # print(\"trained model '%s' in %s\", model_name, time.time() - start)"
   ]
  },
  {
   "cell_type": "code",
   "execution_count": 40,
   "metadata": {
    "scrolled": true
   },
   "outputs": [
    {
     "data": {
      "application/vnd.jupyter.widget-view+json": {
       "model_id": "782cc76399264ea990486a356fc0d52d",
       "version_major": 2,
       "version_minor": 0
      },
      "text/plain": [
       "HBox(children=(FloatProgress(value=0.0), HTML(value='')))"
      ]
     },
     "metadata": {},
     "output_type": "display_data"
    },
    {
     "name": "stdout",
     "output_type": "stream",
     "text": [
      "\n",
      "10 0.0 0.1 1 0.749 0.674\n"
     ]
    },
    {
     "data": {
      "application/vnd.jupyter.widget-view+json": {
       "model_id": "1b1a5723d2074e41908d6c531a88db4b",
       "version_major": 2,
       "version_minor": 0
      },
      "text/plain": [
       "HBox(children=(FloatProgress(value=0.0), HTML(value='')))"
      ]
     },
     "metadata": {},
     "output_type": "display_data"
    },
    {
     "name": "stdout",
     "output_type": "stream",
     "text": [
      "\n",
      "10 0.0 0.1 10 0.759 0.674\n"
     ]
    },
    {
     "data": {
      "application/vnd.jupyter.widget-view+json": {
       "model_id": "56f893d026a64ad791e4ba786badb1b3",
       "version_major": 2,
       "version_minor": 0
      },
      "text/plain": [
       "HBox(children=(FloatProgress(value=0.0), HTML(value='')))"
      ]
     },
     "metadata": {},
     "output_type": "display_data"
    },
    {
     "name": "stdout",
     "output_type": "stream",
     "text": [
      "\n",
      "10 0.0 0.1 50 0.757 0.674\n"
     ]
    },
    {
     "data": {
      "application/vnd.jupyter.widget-view+json": {
       "model_id": "8e2e4d48c94244ca8d2de4bd765d7de2",
       "version_major": 2,
       "version_minor": 0
      },
      "text/plain": [
       "HBox(children=(FloatProgress(value=0.0), HTML(value='')))"
      ]
     },
     "metadata": {},
     "output_type": "display_data"
    },
    {
     "name": "stdout",
     "output_type": "stream",
     "text": [
      "\n",
      "10 0.0 0.1 100 0.755 0.674\n"
     ]
    },
    {
     "data": {
      "application/vnd.jupyter.widget-view+json": {
       "model_id": "cad2061850594d289f581f337ac8ac1b",
       "version_major": 2,
       "version_minor": 0
      },
      "text/plain": [
       "HBox(children=(FloatProgress(value=0.0), HTML(value='')))"
      ]
     },
     "metadata": {},
     "output_type": "display_data"
    },
    {
     "name": "stdout",
     "output_type": "stream",
     "text": [
      "\n",
      "10 0.0 0.1 500 0.759 0.674\n"
     ]
    },
    {
     "data": {
      "application/vnd.jupyter.widget-view+json": {
       "model_id": "c6500c57f4c149c1a0ef6c8f1beb6bc4",
       "version_major": 2,
       "version_minor": 0
      },
      "text/plain": [
       "HBox(children=(FloatProgress(value=0.0), HTML(value='')))"
      ]
     },
     "metadata": {},
     "output_type": "display_data"
    },
    {
     "name": "stdout",
     "output_type": "stream",
     "text": [
      "\n",
      "10 0.1 0.1 1 0.777 0.674\n"
     ]
    },
    {
     "data": {
      "application/vnd.jupyter.widget-view+json": {
       "model_id": "959df11f4f5b4d528a48f77ec5eb7406",
       "version_major": 2,
       "version_minor": 0
      },
      "text/plain": [
       "HBox(children=(FloatProgress(value=0.0), HTML(value='')))"
      ]
     },
     "metadata": {},
     "output_type": "display_data"
    },
    {
     "name": "stdout",
     "output_type": "stream",
     "text": [
      "\n",
      "10 0.1 0.1 10 0.776 0.674\n"
     ]
    },
    {
     "data": {
      "application/vnd.jupyter.widget-view+json": {
       "model_id": "6a7f9651234f41928cd6787cda0b8fa9",
       "version_major": 2,
       "version_minor": 0
      },
      "text/plain": [
       "HBox(children=(FloatProgress(value=0.0), HTML(value='')))"
      ]
     },
     "metadata": {},
     "output_type": "display_data"
    },
    {
     "name": "stdout",
     "output_type": "stream",
     "text": [
      "\n",
      "10 0.1 0.1 50 0.775 0.674\n"
     ]
    },
    {
     "data": {
      "application/vnd.jupyter.widget-view+json": {
       "model_id": "58f922f578b14cd990b72543e7e62cfb",
       "version_major": 2,
       "version_minor": 0
      },
      "text/plain": [
       "HBox(children=(FloatProgress(value=0.0), HTML(value='')))"
      ]
     },
     "metadata": {},
     "output_type": "display_data"
    },
    {
     "name": "stdout",
     "output_type": "stream",
     "text": [
      "\n",
      "10 0.1 0.1 100 0.78 0.674\n"
     ]
    },
    {
     "data": {
      "application/vnd.jupyter.widget-view+json": {
       "model_id": "c83f8f9fd1114569a0cd5d80fc867f32",
       "version_major": 2,
       "version_minor": 0
      },
      "text/plain": [
       "HBox(children=(FloatProgress(value=0.0), HTML(value='')))"
      ]
     },
     "metadata": {},
     "output_type": "display_data"
    },
    {
     "name": "stdout",
     "output_type": "stream",
     "text": [
      "\n",
      "10 0.1 0.1 500 0.782 0.674\n"
     ]
    },
    {
     "data": {
      "application/vnd.jupyter.widget-view+json": {
       "model_id": "61ec7ddc568d495d853e2b505f302d1c",
       "version_major": 2,
       "version_minor": 0
      },
      "text/plain": [
       "HBox(children=(FloatProgress(value=0.0), HTML(value='')))"
      ]
     },
     "metadata": {},
     "output_type": "display_data"
    },
    {
     "name": "stdout",
     "output_type": "stream",
     "text": [
      "\n",
      "10 0.01 0.1 1 0.758 0.674\n"
     ]
    },
    {
     "data": {
      "application/vnd.jupyter.widget-view+json": {
       "model_id": "99a0b0ed158b4a2886d710ed9791b7ae",
       "version_major": 2,
       "version_minor": 0
      },
      "text/plain": [
       "HBox(children=(FloatProgress(value=0.0), HTML(value='')))"
      ]
     },
     "metadata": {},
     "output_type": "display_data"
    },
    {
     "name": "stdout",
     "output_type": "stream",
     "text": [
      "\n",
      "10 0.01 0.1 10 0.762 0.674\n"
     ]
    },
    {
     "data": {
      "application/vnd.jupyter.widget-view+json": {
       "model_id": "3a1c1186e0fe450b88b62b66174d0029",
       "version_major": 2,
       "version_minor": 0
      },
      "text/plain": [
       "HBox(children=(FloatProgress(value=0.0), HTML(value='')))"
      ]
     },
     "metadata": {},
     "output_type": "display_data"
    },
    {
     "name": "stdout",
     "output_type": "stream",
     "text": [
      "\n",
      "10 0.01 0.1 50 0.767 0.674\n"
     ]
    },
    {
     "data": {
      "application/vnd.jupyter.widget-view+json": {
       "model_id": "d3428e4bdb01412a9819ecddadf7d84e",
       "version_major": 2,
       "version_minor": 0
      },
      "text/plain": [
       "HBox(children=(FloatProgress(value=0.0), HTML(value='')))"
      ]
     },
     "metadata": {},
     "output_type": "display_data"
    },
    {
     "name": "stdout",
     "output_type": "stream",
     "text": [
      "\n",
      "10 0.01 0.1 100 0.766 0.674\n"
     ]
    },
    {
     "data": {
      "application/vnd.jupyter.widget-view+json": {
       "model_id": "4df18ee64ee1404fa82a95e1ddb37590",
       "version_major": 2,
       "version_minor": 0
      },
      "text/plain": [
       "HBox(children=(FloatProgress(value=0.0), HTML(value='')))"
      ]
     },
     "metadata": {},
     "output_type": "display_data"
    },
    {
     "name": "stdout",
     "output_type": "stream",
     "text": [
      "\n",
      "10 0.01 0.1 500 0.761 0.674\n"
     ]
    },
    {
     "data": {
      "application/vnd.jupyter.widget-view+json": {
       "model_id": "e4c7a5d0f6c8464ea040a8e074c871a8",
       "version_major": 2,
       "version_minor": 0
      },
      "text/plain": [
       "HBox(children=(FloatProgress(value=0.0), HTML(value='')))"
      ]
     },
     "metadata": {},
     "output_type": "display_data"
    },
    {
     "name": "stdout",
     "output_type": "stream",
     "text": [
      "\n",
      "10 0.001 0.1 1 0.757 0.674\n"
     ]
    },
    {
     "data": {
      "application/vnd.jupyter.widget-view+json": {
       "model_id": "50c9a95b904143db820eee7a31b3e6a4",
       "version_major": 2,
       "version_minor": 0
      },
      "text/plain": [
       "HBox(children=(FloatProgress(value=0.0), HTML(value='')))"
      ]
     },
     "metadata": {},
     "output_type": "display_data"
    },
    {
     "name": "stdout",
     "output_type": "stream",
     "text": [
      "\n",
      "10 0.001 0.1 10 0.757 0.674\n"
     ]
    },
    {
     "data": {
      "application/vnd.jupyter.widget-view+json": {
       "model_id": "1b58ef8d19da45929aba494bdc7ecaa6",
       "version_major": 2,
       "version_minor": 0
      },
      "text/plain": [
       "HBox(children=(FloatProgress(value=0.0), HTML(value='')))"
      ]
     },
     "metadata": {},
     "output_type": "display_data"
    },
    {
     "name": "stdout",
     "output_type": "stream",
     "text": [
      "\n",
      "10 0.001 0.1 50 0.759 0.674\n"
     ]
    },
    {
     "data": {
      "application/vnd.jupyter.widget-view+json": {
       "model_id": "07a113bd340c43268d671c83bc04fd78",
       "version_major": 2,
       "version_minor": 0
      },
      "text/plain": [
       "HBox(children=(FloatProgress(value=0.0), HTML(value='')))"
      ]
     },
     "metadata": {},
     "output_type": "display_data"
    },
    {
     "name": "stdout",
     "output_type": "stream",
     "text": [
      "\n",
      "10 0.001 0.1 100 0.76 0.674\n"
     ]
    },
    {
     "data": {
      "application/vnd.jupyter.widget-view+json": {
       "model_id": "589d2ad7c4e64247b611b1631f50950c",
       "version_major": 2,
       "version_minor": 0
      },
      "text/plain": [
       "HBox(children=(FloatProgress(value=0.0), HTML(value='')))"
      ]
     },
     "metadata": {},
     "output_type": "display_data"
    },
    {
     "name": "stdout",
     "output_type": "stream",
     "text": [
      "\n",
      "10 0.001 0.1 500 0.756 0.674\n"
     ]
    },
    {
     "data": {
      "application/vnd.jupyter.widget-view+json": {
       "model_id": "0ca62f9ced2844e9a2d2707b76a08f84",
       "version_major": 2,
       "version_minor": 0
      },
      "text/plain": [
       "HBox(children=(FloatProgress(value=0.0), HTML(value='')))"
      ]
     },
     "metadata": {},
     "output_type": "display_data"
    },
    {
     "name": "stdout",
     "output_type": "stream",
     "text": [
      "\n",
      "20 0.0 0.1 1 0.777 0.674\n"
     ]
    },
    {
     "data": {
      "application/vnd.jupyter.widget-view+json": {
       "model_id": "b329755e2b8c4530b0aad4370f8b86dc",
       "version_major": 2,
       "version_minor": 0
      },
      "text/plain": [
       "HBox(children=(FloatProgress(value=0.0), HTML(value='')))"
      ]
     },
     "metadata": {},
     "output_type": "display_data"
    },
    {
     "name": "stdout",
     "output_type": "stream",
     "text": [
      "\n",
      "20 0.0 0.1 10 0.77 0.674\n"
     ]
    },
    {
     "data": {
      "application/vnd.jupyter.widget-view+json": {
       "model_id": "d4a495c0d84d4a9d8246a296f3c6e47d",
       "version_major": 2,
       "version_minor": 0
      },
      "text/plain": [
       "HBox(children=(FloatProgress(value=0.0), HTML(value='')))"
      ]
     },
     "metadata": {},
     "output_type": "display_data"
    },
    {
     "name": "stdout",
     "output_type": "stream",
     "text": [
      "\n",
      "20 0.0 0.1 50 0.771 0.674\n"
     ]
    },
    {
     "data": {
      "application/vnd.jupyter.widget-view+json": {
       "model_id": "a99e596933474d90ba8a9fad63f1264e",
       "version_major": 2,
       "version_minor": 0
      },
      "text/plain": [
       "HBox(children=(FloatProgress(value=0.0), HTML(value='')))"
      ]
     },
     "metadata": {},
     "output_type": "display_data"
    },
    {
     "name": "stdout",
     "output_type": "stream",
     "text": [
      "\n",
      "20 0.0 0.1 100 0.772 0.674\n"
     ]
    },
    {
     "data": {
      "application/vnd.jupyter.widget-view+json": {
       "model_id": "97aaff2d934045adbcfdb6c592e4b7cf",
       "version_major": 2,
       "version_minor": 0
      },
      "text/plain": [
       "HBox(children=(FloatProgress(value=0.0), HTML(value='')))"
      ]
     },
     "metadata": {},
     "output_type": "display_data"
    },
    {
     "name": "stdout",
     "output_type": "stream",
     "text": [
      "\n",
      "20 0.0 0.1 500 0.766 0.674\n"
     ]
    },
    {
     "data": {
      "application/vnd.jupyter.widget-view+json": {
       "model_id": "7c4c0e13431943889363b1e520d2024b",
       "version_major": 2,
       "version_minor": 0
      },
      "text/plain": [
       "HBox(children=(FloatProgress(value=0.0), HTML(value='')))"
      ]
     },
     "metadata": {},
     "output_type": "display_data"
    },
    {
     "name": "stdout",
     "output_type": "stream",
     "text": [
      "\n",
      "20 0.1 0.1 1 0.788 0.674\n"
     ]
    },
    {
     "data": {
      "application/vnd.jupyter.widget-view+json": {
       "model_id": "a49de390304147c3abb8db3261b3ce0f",
       "version_major": 2,
       "version_minor": 0
      },
      "text/plain": [
       "HBox(children=(FloatProgress(value=0.0), HTML(value='')))"
      ]
     },
     "metadata": {},
     "output_type": "display_data"
    },
    {
     "name": "stdout",
     "output_type": "stream",
     "text": [
      "\n",
      "20 0.1 0.1 10 0.791 0.674\n"
     ]
    },
    {
     "data": {
      "application/vnd.jupyter.widget-view+json": {
       "model_id": "65c97e0a4c874b5785cf5e2b531b1a0c",
       "version_major": 2,
       "version_minor": 0
      },
      "text/plain": [
       "HBox(children=(FloatProgress(value=0.0), HTML(value='')))"
      ]
     },
     "metadata": {},
     "output_type": "display_data"
    },
    {
     "name": "stdout",
     "output_type": "stream",
     "text": [
      "\n",
      "20 0.1 0.1 50 0.79 0.674\n"
     ]
    },
    {
     "data": {
      "application/vnd.jupyter.widget-view+json": {
       "model_id": "0ab5714c5aa347a882ad00323a5d2f21",
       "version_major": 2,
       "version_minor": 0
      },
      "text/plain": [
       "HBox(children=(FloatProgress(value=0.0), HTML(value='')))"
      ]
     },
     "metadata": {},
     "output_type": "display_data"
    },
    {
     "name": "stdout",
     "output_type": "stream",
     "text": [
      "\n",
      "20 0.1 0.1 100 0.792 0.674\n"
     ]
    },
    {
     "data": {
      "application/vnd.jupyter.widget-view+json": {
       "model_id": "d61e4dbb8d3c4499a16360d6e8395c5d",
       "version_major": 2,
       "version_minor": 0
      },
      "text/plain": [
       "HBox(children=(FloatProgress(value=0.0), HTML(value='')))"
      ]
     },
     "metadata": {},
     "output_type": "display_data"
    },
    {
     "name": "stdout",
     "output_type": "stream",
     "text": [
      "\n",
      "20 0.1 0.1 500 0.791 0.674\n"
     ]
    },
    {
     "data": {
      "application/vnd.jupyter.widget-view+json": {
       "model_id": "1496189c7431445da2f06c8a143da37d",
       "version_major": 2,
       "version_minor": 0
      },
      "text/plain": [
       "HBox(children=(FloatProgress(value=0.0), HTML(value='')))"
      ]
     },
     "metadata": {},
     "output_type": "display_data"
    },
    {
     "name": "stdout",
     "output_type": "stream",
     "text": [
      "\n",
      "20 0.01 0.1 1 0.781 0.674\n"
     ]
    },
    {
     "data": {
      "application/vnd.jupyter.widget-view+json": {
       "model_id": "09a80b8656d54cb39aa0d53778ff90cf",
       "version_major": 2,
       "version_minor": 0
      },
      "text/plain": [
       "HBox(children=(FloatProgress(value=0.0), HTML(value='')))"
      ]
     },
     "metadata": {},
     "output_type": "display_data"
    },
    {
     "name": "stdout",
     "output_type": "stream",
     "text": [
      "\n",
      "20 0.01 0.1 10 0.782 0.674\n"
     ]
    },
    {
     "data": {
      "application/vnd.jupyter.widget-view+json": {
       "model_id": "e323e7a29c27484ea28a73952cd1b7fe",
       "version_major": 2,
       "version_minor": 0
      },
      "text/plain": [
       "HBox(children=(FloatProgress(value=0.0), HTML(value='')))"
      ]
     },
     "metadata": {},
     "output_type": "display_data"
    },
    {
     "name": "stdout",
     "output_type": "stream",
     "text": [
      "\n",
      "20 0.01 0.1 50 0.78 0.674\n"
     ]
    },
    {
     "data": {
      "application/vnd.jupyter.widget-view+json": {
       "model_id": "ee9b5697e7bf41bd845380bb4bedbdff",
       "version_major": 2,
       "version_minor": 0
      },
      "text/plain": [
       "HBox(children=(FloatProgress(value=0.0), HTML(value='')))"
      ]
     },
     "metadata": {},
     "output_type": "display_data"
    },
    {
     "name": "stdout",
     "output_type": "stream",
     "text": [
      "\n",
      "20 0.01 0.1 100 0.778 0.674\n"
     ]
    },
    {
     "data": {
      "application/vnd.jupyter.widget-view+json": {
       "model_id": "d84e471387344c8fbd04415017e40a9f",
       "version_major": 2,
       "version_minor": 0
      },
      "text/plain": [
       "HBox(children=(FloatProgress(value=0.0), HTML(value='')))"
      ]
     },
     "metadata": {},
     "output_type": "display_data"
    },
    {
     "name": "stdout",
     "output_type": "stream",
     "text": [
      "\n",
      "20 0.01 0.1 500 0.782 0.674\n"
     ]
    },
    {
     "data": {
      "application/vnd.jupyter.widget-view+json": {
       "model_id": "08dee1e44793465e9580057db45526dd",
       "version_major": 2,
       "version_minor": 0
      },
      "text/plain": [
       "HBox(children=(FloatProgress(value=0.0), HTML(value='')))"
      ]
     },
     "metadata": {},
     "output_type": "display_data"
    },
    {
     "name": "stdout",
     "output_type": "stream",
     "text": [
      "\n",
      "20 0.001 0.1 1 0.773 0.674\n"
     ]
    },
    {
     "data": {
      "application/vnd.jupyter.widget-view+json": {
       "model_id": "17c3abf6b1ad40f385fe79b6fa77be7b",
       "version_major": 2,
       "version_minor": 0
      },
      "text/plain": [
       "HBox(children=(FloatProgress(value=0.0), HTML(value='')))"
      ]
     },
     "metadata": {},
     "output_type": "display_data"
    },
    {
     "name": "stdout",
     "output_type": "stream",
     "text": [
      "\n",
      "20 0.001 0.1 10 0.771 0.674\n"
     ]
    },
    {
     "data": {
      "application/vnd.jupyter.widget-view+json": {
       "model_id": "535edf1ca088471c8d82dce58487b009",
       "version_major": 2,
       "version_minor": 0
      },
      "text/plain": [
       "HBox(children=(FloatProgress(value=0.0), HTML(value='')))"
      ]
     },
     "metadata": {},
     "output_type": "display_data"
    },
    {
     "name": "stdout",
     "output_type": "stream",
     "text": [
      "\n",
      "20 0.001 0.1 50 0.777 0.674\n"
     ]
    },
    {
     "data": {
      "application/vnd.jupyter.widget-view+json": {
       "model_id": "71c2d34f9e97471d9ce21717690d7a60",
       "version_major": 2,
       "version_minor": 0
      },
      "text/plain": [
       "HBox(children=(FloatProgress(value=0.0), HTML(value='')))"
      ]
     },
     "metadata": {},
     "output_type": "display_data"
    },
    {
     "name": "stdout",
     "output_type": "stream",
     "text": [
      "\n",
      "20 0.001 0.1 100 0.778 0.674\n"
     ]
    },
    {
     "data": {
      "application/vnd.jupyter.widget-view+json": {
       "model_id": "2fe3c004b1a049deac4b495c487efd28",
       "version_major": 2,
       "version_minor": 0
      },
      "text/plain": [
       "HBox(children=(FloatProgress(value=0.0), HTML(value='')))"
      ]
     },
     "metadata": {},
     "output_type": "display_data"
    },
    {
     "name": "stdout",
     "output_type": "stream",
     "text": [
      "\n",
      "20 0.001 0.1 500 0.773 0.674\n"
     ]
    },
    {
     "data": {
      "application/vnd.jupyter.widget-view+json": {
       "model_id": "51888f0caf5b479e989f7037e92945e4",
       "version_major": 2,
       "version_minor": 0
      },
      "text/plain": [
       "HBox(children=(FloatProgress(value=0.0), HTML(value='')))"
      ]
     },
     "metadata": {},
     "output_type": "display_data"
    },
    {
     "name": "stdout",
     "output_type": "stream",
     "text": [
      "\n",
      "40 0.0 0.1 1 0.785 0.674\n"
     ]
    },
    {
     "data": {
      "application/vnd.jupyter.widget-view+json": {
       "model_id": "586a9226f7a1496d9bb0733d36a5c44f",
       "version_major": 2,
       "version_minor": 0
      },
      "text/plain": [
       "HBox(children=(FloatProgress(value=0.0), HTML(value='')))"
      ]
     },
     "metadata": {},
     "output_type": "display_data"
    },
    {
     "name": "stdout",
     "output_type": "stream",
     "text": [
      "\n",
      "40 0.0 0.1 10 0.772 0.674\n"
     ]
    },
    {
     "data": {
      "application/vnd.jupyter.widget-view+json": {
       "model_id": "18e83a2ec1364739a0d4d98cb9db3d34",
       "version_major": 2,
       "version_minor": 0
      },
      "text/plain": [
       "HBox(children=(FloatProgress(value=0.0), HTML(value='')))"
      ]
     },
     "metadata": {},
     "output_type": "display_data"
    },
    {
     "name": "stdout",
     "output_type": "stream",
     "text": [
      "\n",
      "40 0.0 0.1 50 0.78 0.674\n"
     ]
    },
    {
     "data": {
      "application/vnd.jupyter.widget-view+json": {
       "model_id": "fdd8b984e1574420bafabe4ff5e49481",
       "version_major": 2,
       "version_minor": 0
      },
      "text/plain": [
       "HBox(children=(FloatProgress(value=0.0), HTML(value='')))"
      ]
     },
     "metadata": {},
     "output_type": "display_data"
    },
    {
     "name": "stdout",
     "output_type": "stream",
     "text": [
      "\n",
      "40 0.0 0.1 100 0.78 0.674\n"
     ]
    },
    {
     "data": {
      "application/vnd.jupyter.widget-view+json": {
       "model_id": "24e357d95b384f62bb9064f9b3cf0402",
       "version_major": 2,
       "version_minor": 0
      },
      "text/plain": [
       "HBox(children=(FloatProgress(value=0.0), HTML(value='')))"
      ]
     },
     "metadata": {},
     "output_type": "display_data"
    },
    {
     "name": "stdout",
     "output_type": "stream",
     "text": [
      "\n",
      "40 0.0 0.1 500 0.78 0.674\n"
     ]
    },
    {
     "data": {
      "application/vnd.jupyter.widget-view+json": {
       "model_id": "7f22e3fbf2c842e0a2971a0111484486",
       "version_major": 2,
       "version_minor": 0
      },
      "text/plain": [
       "HBox(children=(FloatProgress(value=0.0), HTML(value='')))"
      ]
     },
     "metadata": {},
     "output_type": "display_data"
    },
    {
     "name": "stdout",
     "output_type": "stream",
     "text": [
      "\n",
      "40 0.1 0.1 1 0.804 0.674\n"
     ]
    },
    {
     "data": {
      "application/vnd.jupyter.widget-view+json": {
       "model_id": "6dd408ef1bd0470ca2d34c8cfd68969b",
       "version_major": 2,
       "version_minor": 0
      },
      "text/plain": [
       "HBox(children=(FloatProgress(value=0.0), HTML(value='')))"
      ]
     },
     "metadata": {},
     "output_type": "display_data"
    },
    {
     "name": "stdout",
     "output_type": "stream",
     "text": [
      "\n",
      "40 0.1 0.1 10 0.798 0.674\n"
     ]
    },
    {
     "data": {
      "application/vnd.jupyter.widget-view+json": {
       "model_id": "2bf0317b6b1d4449965e8964e05e57d9",
       "version_major": 2,
       "version_minor": 0
      },
      "text/plain": [
       "HBox(children=(FloatProgress(value=0.0), HTML(value='')))"
      ]
     },
     "metadata": {},
     "output_type": "display_data"
    },
    {
     "name": "stdout",
     "output_type": "stream",
     "text": [
      "\n",
      "40 0.1 0.1 50 0.804 0.674\n"
     ]
    },
    {
     "data": {
      "application/vnd.jupyter.widget-view+json": {
       "model_id": "5366e4a7e2854df99771ca658733e9fb",
       "version_major": 2,
       "version_minor": 0
      },
      "text/plain": [
       "HBox(children=(FloatProgress(value=0.0), HTML(value='')))"
      ]
     },
     "metadata": {},
     "output_type": "display_data"
    },
    {
     "name": "stdout",
     "output_type": "stream",
     "text": [
      "\n",
      "40 0.1 0.1 100 0.797 0.674\n"
     ]
    },
    {
     "data": {
      "application/vnd.jupyter.widget-view+json": {
       "model_id": "6e1df8ab57b444f78f72658bab795105",
       "version_major": 2,
       "version_minor": 0
      },
      "text/plain": [
       "HBox(children=(FloatProgress(value=0.0), HTML(value='')))"
      ]
     },
     "metadata": {},
     "output_type": "display_data"
    },
    {
     "name": "stdout",
     "output_type": "stream",
     "text": [
      "\n",
      "40 0.1 0.1 500 0.803 0.674\n"
     ]
    },
    {
     "data": {
      "application/vnd.jupyter.widget-view+json": {
       "model_id": "9731915f77314985b5afe9615c6c087c",
       "version_major": 2,
       "version_minor": 0
      },
      "text/plain": [
       "HBox(children=(FloatProgress(value=0.0), HTML(value='')))"
      ]
     },
     "metadata": {},
     "output_type": "display_data"
    },
    {
     "name": "stdout",
     "output_type": "stream",
     "text": [
      "\n",
      "40 0.01 0.1 1 0.785 0.674\n"
     ]
    },
    {
     "data": {
      "application/vnd.jupyter.widget-view+json": {
       "model_id": "2188d160f3aa459f82a3c654df50d2f8",
       "version_major": 2,
       "version_minor": 0
      },
      "text/plain": [
       "HBox(children=(FloatProgress(value=0.0), HTML(value='')))"
      ]
     },
     "metadata": {},
     "output_type": "display_data"
    },
    {
     "name": "stdout",
     "output_type": "stream",
     "text": [
      "\n",
      "40 0.01 0.1 10 0.784 0.674\n"
     ]
    },
    {
     "data": {
      "application/vnd.jupyter.widget-view+json": {
       "model_id": "3ea6a64bedd94fa684dd237afcabd52a",
       "version_major": 2,
       "version_minor": 0
      },
      "text/plain": [
       "HBox(children=(FloatProgress(value=0.0), HTML(value='')))"
      ]
     },
     "metadata": {},
     "output_type": "display_data"
    },
    {
     "name": "stdout",
     "output_type": "stream",
     "text": [
      "\n",
      "40 0.01 0.1 50 0.788 0.674\n"
     ]
    },
    {
     "data": {
      "application/vnd.jupyter.widget-view+json": {
       "model_id": "7640190070754204a4866c4adce27675",
       "version_major": 2,
       "version_minor": 0
      },
      "text/plain": [
       "HBox(children=(FloatProgress(value=0.0), HTML(value='')))"
      ]
     },
     "metadata": {},
     "output_type": "display_data"
    },
    {
     "name": "stdout",
     "output_type": "stream",
     "text": [
      "\n",
      "40 0.01 0.1 100 0.79 0.674\n"
     ]
    },
    {
     "data": {
      "application/vnd.jupyter.widget-view+json": {
       "model_id": "9f4242df40434e908dd0dd41d449a5ea",
       "version_major": 2,
       "version_minor": 0
      },
      "text/plain": [
       "HBox(children=(FloatProgress(value=0.0), HTML(value='')))"
      ]
     },
     "metadata": {},
     "output_type": "display_data"
    },
    {
     "name": "stdout",
     "output_type": "stream",
     "text": [
      "\n",
      "40 0.01 0.1 500 0.788 0.674\n"
     ]
    },
    {
     "data": {
      "application/vnd.jupyter.widget-view+json": {
       "model_id": "2de4de81aebf4820866825e64952aa7a",
       "version_major": 2,
       "version_minor": 0
      },
      "text/plain": [
       "HBox(children=(FloatProgress(value=0.0), HTML(value='')))"
      ]
     },
     "metadata": {},
     "output_type": "display_data"
    },
    {
     "name": "stdout",
     "output_type": "stream",
     "text": [
      "\n",
      "40 0.001 0.1 1 0.783 0.674\n"
     ]
    },
    {
     "data": {
      "application/vnd.jupyter.widget-view+json": {
       "model_id": "f0149a749ee0411d95f53ae5d2dd4b0f",
       "version_major": 2,
       "version_minor": 0
      },
      "text/plain": [
       "HBox(children=(FloatProgress(value=0.0), HTML(value='')))"
      ]
     },
     "metadata": {},
     "output_type": "display_data"
    },
    {
     "name": "stdout",
     "output_type": "stream",
     "text": [
      "\n",
      "40 0.001 0.1 10 0.78 0.674\n"
     ]
    },
    {
     "data": {
      "application/vnd.jupyter.widget-view+json": {
       "model_id": "44efbb4d125d4aa780f187d1a08d07e3",
       "version_major": 2,
       "version_minor": 0
      },
      "text/plain": [
       "HBox(children=(FloatProgress(value=0.0), HTML(value='')))"
      ]
     },
     "metadata": {},
     "output_type": "display_data"
    },
    {
     "name": "stdout",
     "output_type": "stream",
     "text": [
      "\n",
      "40 0.001 0.1 50 0.778 0.674\n"
     ]
    },
    {
     "data": {
      "application/vnd.jupyter.widget-view+json": {
       "model_id": "fae822ab9d7543fab53b76d14d08f403",
       "version_major": 2,
       "version_minor": 0
      },
      "text/plain": [
       "HBox(children=(FloatProgress(value=0.0), HTML(value='')))"
      ]
     },
     "metadata": {},
     "output_type": "display_data"
    },
    {
     "name": "stdout",
     "output_type": "stream",
     "text": [
      "\n",
      "40 0.001 0.1 100 0.783 0.674\n"
     ]
    },
    {
     "data": {
      "application/vnd.jupyter.widget-view+json": {
       "model_id": "194890f25403429f9f0a857a8dfcb890",
       "version_major": 2,
       "version_minor": 0
      },
      "text/plain": [
       "HBox(children=(FloatProgress(value=0.0), HTML(value='')))"
      ]
     },
     "metadata": {},
     "output_type": "display_data"
    },
    {
     "name": "stdout",
     "output_type": "stream",
     "text": [
      "\n",
      "40 0.001 0.1 500 0.782 0.674\n"
     ]
    },
    {
     "data": {
      "application/vnd.jupyter.widget-view+json": {
       "model_id": "e9cdb9ae632744eda3a5afdd55775b95",
       "version_major": 2,
       "version_minor": 0
      },
      "text/plain": [
       "HBox(children=(FloatProgress(value=0.0), HTML(value='')))"
      ]
     },
     "metadata": {},
     "output_type": "display_data"
    },
    {
     "name": "stdout",
     "output_type": "stream",
     "text": [
      "\n",
      "80 0.0 0.1 1 0.781 0.674\n"
     ]
    },
    {
     "data": {
      "application/vnd.jupyter.widget-view+json": {
       "model_id": "6d0f7f4c8b334b05838012596f4f4725",
       "version_major": 2,
       "version_minor": 0
      },
      "text/plain": [
       "HBox(children=(FloatProgress(value=0.0), HTML(value='')))"
      ]
     },
     "metadata": {},
     "output_type": "display_data"
    },
    {
     "name": "stdout",
     "output_type": "stream",
     "text": [
      "\n",
      "80 0.0 0.1 10 0.786 0.674\n"
     ]
    },
    {
     "data": {
      "application/vnd.jupyter.widget-view+json": {
       "model_id": "d4dc4c6554bb4bb0a8fc5f5c8f500803",
       "version_major": 2,
       "version_minor": 0
      },
      "text/plain": [
       "HBox(children=(FloatProgress(value=0.0), HTML(value='')))"
      ]
     },
     "metadata": {},
     "output_type": "display_data"
    },
    {
     "name": "stdout",
     "output_type": "stream",
     "text": [
      "\n",
      "80 0.0 0.1 50 0.79 0.674\n"
     ]
    },
    {
     "data": {
      "application/vnd.jupyter.widget-view+json": {
       "model_id": "83e24fbb17a448258424ef7d123c1f30",
       "version_major": 2,
       "version_minor": 0
      },
      "text/plain": [
       "HBox(children=(FloatProgress(value=0.0), HTML(value='')))"
      ]
     },
     "metadata": {},
     "output_type": "display_data"
    },
    {
     "name": "stdout",
     "output_type": "stream",
     "text": [
      "\n",
      "80 0.0 0.1 100 0.787 0.674\n"
     ]
    },
    {
     "data": {
      "application/vnd.jupyter.widget-view+json": {
       "model_id": "dbcd2979d7714bc4b45d785ee4d87143",
       "version_major": 2,
       "version_minor": 0
      },
      "text/plain": [
       "HBox(children=(FloatProgress(value=0.0), HTML(value='')))"
      ]
     },
     "metadata": {},
     "output_type": "display_data"
    },
    {
     "name": "stdout",
     "output_type": "stream",
     "text": [
      "\n",
      "80 0.0 0.1 500 0.785 0.674\n"
     ]
    },
    {
     "data": {
      "application/vnd.jupyter.widget-view+json": {
       "model_id": "3536aadfd7d44809bfa014b0555c2fd7",
       "version_major": 2,
       "version_minor": 0
      },
      "text/plain": [
       "HBox(children=(FloatProgress(value=0.0), HTML(value='')))"
      ]
     },
     "metadata": {},
     "output_type": "display_data"
    },
    {
     "name": "stdout",
     "output_type": "stream",
     "text": [
      "\n",
      "80 0.1 0.1 1 0.803 0.674\n"
     ]
    },
    {
     "data": {
      "application/vnd.jupyter.widget-view+json": {
       "model_id": "a120f5c90b5c43d4977a4e5a0d64783d",
       "version_major": 2,
       "version_minor": 0
      },
      "text/plain": [
       "HBox(children=(FloatProgress(value=0.0), HTML(value='')))"
      ]
     },
     "metadata": {},
     "output_type": "display_data"
    },
    {
     "name": "stdout",
     "output_type": "stream",
     "text": [
      "\n",
      "80 0.1 0.1 10 0.802 0.674\n"
     ]
    },
    {
     "data": {
      "application/vnd.jupyter.widget-view+json": {
       "model_id": "c34932ef8b9d4506a423582627c002d8",
       "version_major": 2,
       "version_minor": 0
      },
      "text/plain": [
       "HBox(children=(FloatProgress(value=0.0), HTML(value='')))"
      ]
     },
     "metadata": {},
     "output_type": "display_data"
    },
    {
     "name": "stdout",
     "output_type": "stream",
     "text": [
      "\n",
      "80 0.1 0.1 50 0.804 0.674\n"
     ]
    },
    {
     "data": {
      "application/vnd.jupyter.widget-view+json": {
       "model_id": "5438e1e4fa9c4decb1fa6b0c3b9a3c6e",
       "version_major": 2,
       "version_minor": 0
      },
      "text/plain": [
       "HBox(children=(FloatProgress(value=0.0), HTML(value='')))"
      ]
     },
     "metadata": {},
     "output_type": "display_data"
    },
    {
     "name": "stdout",
     "output_type": "stream",
     "text": [
      "\n",
      "80 0.1 0.1 100 0.806 0.674\n"
     ]
    },
    {
     "data": {
      "application/vnd.jupyter.widget-view+json": {
       "model_id": "8dd42b47952e4395b6de24b55237fd5e",
       "version_major": 2,
       "version_minor": 0
      },
      "text/plain": [
       "HBox(children=(FloatProgress(value=0.0), HTML(value='')))"
      ]
     },
     "metadata": {},
     "output_type": "display_data"
    },
    {
     "name": "stdout",
     "output_type": "stream",
     "text": [
      "\n",
      "80 0.1 0.1 500 0.806 0.674\n"
     ]
    },
    {
     "data": {
      "application/vnd.jupyter.widget-view+json": {
       "model_id": "5ecff1efff5b4102bfa5c3753aebac75",
       "version_major": 2,
       "version_minor": 0
      },
      "text/plain": [
       "HBox(children=(FloatProgress(value=0.0), HTML(value='')))"
      ]
     },
     "metadata": {},
     "output_type": "display_data"
    },
    {
     "name": "stdout",
     "output_type": "stream",
     "text": [
      "\n",
      "80 0.01 0.1 1 0.792 0.674\n"
     ]
    },
    {
     "data": {
      "application/vnd.jupyter.widget-view+json": {
       "model_id": "4952dc3cfd6f4f68b606477f56ed1abe",
       "version_major": 2,
       "version_minor": 0
      },
      "text/plain": [
       "HBox(children=(FloatProgress(value=0.0), HTML(value='')))"
      ]
     },
     "metadata": {},
     "output_type": "display_data"
    },
    {
     "name": "stdout",
     "output_type": "stream",
     "text": [
      "\n",
      "80 0.01 0.1 10 0.793 0.674\n"
     ]
    },
    {
     "data": {
      "application/vnd.jupyter.widget-view+json": {
       "model_id": "7057ba0809854114ad6248a021cf67eb",
       "version_major": 2,
       "version_minor": 0
      },
      "text/plain": [
       "HBox(children=(FloatProgress(value=0.0), HTML(value='')))"
      ]
     },
     "metadata": {},
     "output_type": "display_data"
    },
    {
     "name": "stdout",
     "output_type": "stream",
     "text": [
      "\n",
      "80 0.01 0.1 50 0.793 0.674\n"
     ]
    },
    {
     "data": {
      "application/vnd.jupyter.widget-view+json": {
       "model_id": "397b8c3c4d624c3096068961d328dcf6",
       "version_major": 2,
       "version_minor": 0
      },
      "text/plain": [
       "HBox(children=(FloatProgress(value=0.0), HTML(value='')))"
      ]
     },
     "metadata": {},
     "output_type": "display_data"
    },
    {
     "name": "stdout",
     "output_type": "stream",
     "text": [
      "\n",
      "80 0.01 0.1 100 0.792 0.674\n"
     ]
    },
    {
     "data": {
      "application/vnd.jupyter.widget-view+json": {
       "model_id": "96c4eda718b34d5d80f81b120a218a22",
       "version_major": 2,
       "version_minor": 0
      },
      "text/plain": [
       "HBox(children=(FloatProgress(value=0.0), HTML(value='')))"
      ]
     },
     "metadata": {},
     "output_type": "display_data"
    },
    {
     "name": "stdout",
     "output_type": "stream",
     "text": [
      "\n",
      "80 0.01 0.1 500 0.79 0.674\n"
     ]
    },
    {
     "data": {
      "application/vnd.jupyter.widget-view+json": {
       "model_id": "f5c82bde80c545fe98ad52e1f40a85ce",
       "version_major": 2,
       "version_minor": 0
      },
      "text/plain": [
       "HBox(children=(FloatProgress(value=0.0), HTML(value='')))"
      ]
     },
     "metadata": {},
     "output_type": "display_data"
    },
    {
     "name": "stdout",
     "output_type": "stream",
     "text": [
      "\n",
      "80 0.001 0.1 1 0.788 0.674\n"
     ]
    },
    {
     "data": {
      "application/vnd.jupyter.widget-view+json": {
       "model_id": "ff35efa5a6e748bfa978a0889db6356e",
       "version_major": 2,
       "version_minor": 0
      },
      "text/plain": [
       "HBox(children=(FloatProgress(value=0.0), HTML(value='')))"
      ]
     },
     "metadata": {},
     "output_type": "display_data"
    },
    {
     "name": "stdout",
     "output_type": "stream",
     "text": [
      "\n",
      "80 0.001 0.1 10 0.79 0.674\n"
     ]
    },
    {
     "data": {
      "application/vnd.jupyter.widget-view+json": {
       "model_id": "3c119e64151048eea11b859c10ab8908",
       "version_major": 2,
       "version_minor": 0
      },
      "text/plain": [
       "HBox(children=(FloatProgress(value=0.0), HTML(value='')))"
      ]
     },
     "metadata": {},
     "output_type": "display_data"
    },
    {
     "name": "stdout",
     "output_type": "stream",
     "text": [
      "\n",
      "80 0.001 0.1 50 0.785 0.674\n"
     ]
    },
    {
     "data": {
      "application/vnd.jupyter.widget-view+json": {
       "model_id": "b85f9807c1d4402487d90a5637caf77f",
       "version_major": 2,
       "version_minor": 0
      },
      "text/plain": [
       "HBox(children=(FloatProgress(value=0.0), HTML(value='')))"
      ]
     },
     "metadata": {},
     "output_type": "display_data"
    },
    {
     "name": "stdout",
     "output_type": "stream",
     "text": [
      "\n",
      "80 0.001 0.1 100 0.788 0.674\n"
     ]
    },
    {
     "data": {
      "application/vnd.jupyter.widget-view+json": {
       "model_id": "92275fb6254b479d85f75c7312dc7af9",
       "version_major": 2,
       "version_minor": 0
      },
      "text/plain": [
       "HBox(children=(FloatProgress(value=0.0), HTML(value='')))"
      ]
     },
     "metadata": {},
     "output_type": "display_data"
    },
    {
     "name": "stdout",
     "output_type": "stream",
     "text": [
      "\n",
      "80 0.001 0.1 500 0.789 0.674\n"
     ]
    },
    {
     "data": {
      "application/vnd.jupyter.widget-view+json": {
       "model_id": "26e900e2c4674e2b9f00927291194d0f",
       "version_major": 2,
       "version_minor": 0
      },
      "text/plain": [
       "HBox(children=(FloatProgress(value=0.0), HTML(value='')))"
      ]
     },
     "metadata": {},
     "output_type": "display_data"
    },
    {
     "name": "stdout",
     "output_type": "stream",
     "text": [
      "\n",
      "120 0.0 0.1 1 0.787 0.674\n"
     ]
    },
    {
     "data": {
      "application/vnd.jupyter.widget-view+json": {
       "model_id": "6d8bb2a7f9854f4897862120f0eda0f5",
       "version_major": 2,
       "version_minor": 0
      },
      "text/plain": [
       "HBox(children=(FloatProgress(value=0.0), HTML(value='')))"
      ]
     },
     "metadata": {},
     "output_type": "display_data"
    },
    {
     "name": "stdout",
     "output_type": "stream",
     "text": [
      "\n"
     ]
    },
    {
     "ename": "KeyboardInterrupt",
     "evalue": "",
     "output_type": "error",
     "traceback": [
      "\u001b[1;31m---------------------------------------------------------------------------\u001b[0m",
      "\u001b[1;31mKeyboardInterrupt\u001b[0m                         Traceback (most recent call last)",
      "\u001b[1;32m<ipython-input-40-a081b4350c21>\u001b[0m in \u001b[0;36m<module>\u001b[1;34m\u001b[0m\n\u001b[1;32m----> 1\u001b[1;33m \u001b[0mcross_validation_bpr\u001b[0m\u001b[1;33m(\u001b[0m\u001b[0mpurchases_sparse\u001b[0m\u001b[1;33m,\u001b[0m \u001b[1;34m'bpr'\u001b[0m\u001b[1;33m,\u001b[0m \u001b[0mparam_grid\u001b[0m\u001b[1;33m)\u001b[0m\u001b[1;33m\u001b[0m\u001b[1;33m\u001b[0m\u001b[0m\n\u001b[0m",
      "\u001b[1;32m<ipython-input-39-2c57ebeb7142>\u001b[0m in \u001b[0;36mcross_validation_bpr\u001b[1;34m(sparse_matrix, model_name, param_grid, pct_test)\u001b[0m\n\u001b[0;32m     34\u001b[0m                     \u001b[0mitem_vecs\u001b[0m \u001b[1;33m=\u001b[0m \u001b[0mmodel\u001b[0m\u001b[1;33m.\u001b[0m\u001b[0muser_factors\u001b[0m\u001b[1;33m\u001b[0m\u001b[1;33m\u001b[0m\u001b[0m\n\u001b[0;32m     35\u001b[0m                     \u001b[0muser_vecs\u001b[0m \u001b[1;33m=\u001b[0m \u001b[0mmodel\u001b[0m\u001b[1;33m.\u001b[0m\u001b[0mitem_factors\u001b[0m\u001b[1;33m\u001b[0m\u001b[1;33m\u001b[0m\u001b[0m\n\u001b[1;32m---> 36\u001b[1;33m                     \u001b[0mstore_auc\u001b[0m \u001b[1;33m=\u001b[0m \u001b[0mcalc_mean_auc_cv\u001b[0m\u001b[1;33m(\u001b[0m\u001b[0mproduct_train\u001b[0m\u001b[1;33m,\u001b[0m \u001b[0mproduct_users_altered\u001b[0m\u001b[1;33m,\u001b[0m \u001b[1;33m[\u001b[0m\u001b[0msparse\u001b[0m\u001b[1;33m.\u001b[0m\u001b[0mcsr_matrix\u001b[0m\u001b[1;33m(\u001b[0m\u001b[0muser_vecs\u001b[0m\u001b[1;33m)\u001b[0m\u001b[1;33m,\u001b[0m \u001b[0msparse\u001b[0m\u001b[1;33m.\u001b[0m\u001b[0mcsr_matrix\u001b[0m\u001b[1;33m(\u001b[0m\u001b[0mitem_vecs\u001b[0m\u001b[1;33m.\u001b[0m\u001b[0mT\u001b[0m\u001b[1;33m)\u001b[0m\u001b[1;33m]\u001b[0m\u001b[1;33m,\u001b[0m \u001b[0mproduct_test\u001b[0m\u001b[1;33m)\u001b[0m\u001b[1;33m\u001b[0m\u001b[1;33m\u001b[0m\u001b[0m\n\u001b[0m\u001b[0;32m     37\u001b[0m                     \u001b[0mprint\u001b[0m\u001b[1;33m(\u001b[0m\u001b[0mfactor\u001b[0m\u001b[1;33m,\u001b[0m \u001b[0mregu\u001b[0m\u001b[1;33m,\u001b[0m \u001b[0mlr\u001b[0m\u001b[1;33m,\u001b[0m \u001b[0malpha\u001b[0m\u001b[1;33m,\u001b[0m \u001b[0mstore_auc\u001b[0m\u001b[1;33m,\u001b[0m \u001b[0mpop_auc\u001b[0m\u001b[1;33m)\u001b[0m\u001b[1;33m\u001b[0m\u001b[1;33m\u001b[0m\u001b[0m\n\u001b[0;32m     38\u001b[0m \u001b[1;33m\u001b[0m\u001b[0m\n",
      "\u001b[1;32m<ipython-input-17-41d7b7e1a402>\u001b[0m in \u001b[0;36mcalc_mean_auc_cv\u001b[1;34m(training_set, altered_users, predictions, test_set)\u001b[0m\n\u001b[0;32m     95\u001b[0m         \u001b[1;31m# Get the predicted values based on our user/item vectors\u001b[0m\u001b[1;33m\u001b[0m\u001b[1;33m\u001b[0m\u001b[1;33m\u001b[0m\u001b[0m\n\u001b[0;32m     96\u001b[0m         \u001b[0muser_vec\u001b[0m \u001b[1;33m=\u001b[0m \u001b[0mpredictions\u001b[0m\u001b[1;33m[\u001b[0m\u001b[1;36m0\u001b[0m\u001b[1;33m]\u001b[0m\u001b[1;33m[\u001b[0m\u001b[0muser\u001b[0m\u001b[1;33m,\u001b[0m\u001b[1;33m:\u001b[0m\u001b[1;33m]\u001b[0m\u001b[1;33m\u001b[0m\u001b[1;33m\u001b[0m\u001b[0m\n\u001b[1;32m---> 97\u001b[1;33m         \u001b[0mpred\u001b[0m \u001b[1;33m=\u001b[0m \u001b[0muser_vec\u001b[0m\u001b[1;33m.\u001b[0m\u001b[0mdot\u001b[0m\u001b[1;33m(\u001b[0m\u001b[0mitem_vecs\u001b[0m\u001b[1;33m)\u001b[0m\u001b[1;33m.\u001b[0m\u001b[0mtoarray\u001b[0m\u001b[1;33m(\u001b[0m\u001b[1;33m)\u001b[0m\u001b[1;33m[\u001b[0m\u001b[1;36m0\u001b[0m\u001b[1;33m,\u001b[0m\u001b[0mzero_inds\u001b[0m\u001b[1;33m]\u001b[0m\u001b[1;33m.\u001b[0m\u001b[0mreshape\u001b[0m\u001b[1;33m(\u001b[0m\u001b[1;33m-\u001b[0m\u001b[1;36m1\u001b[0m\u001b[1;33m)\u001b[0m\u001b[1;33m\u001b[0m\u001b[1;33m\u001b[0m\u001b[0m\n\u001b[0m\u001b[0;32m     98\u001b[0m         \u001b[1;31m# Get only the items that were originally zero\u001b[0m\u001b[1;33m\u001b[0m\u001b[1;33m\u001b[0m\u001b[1;33m\u001b[0m\u001b[0m\n\u001b[0;32m     99\u001b[0m         \u001b[1;31m# Select all ratings from the MF prediction for this user that originally had no iteraction\u001b[0m\u001b[1;33m\u001b[0m\u001b[1;33m\u001b[0m\u001b[1;33m\u001b[0m\u001b[0m\n",
      "\u001b[1;32mG:\\Anaconda3\\lib\\site-packages\\scipy\\sparse\\base.py\u001b[0m in \u001b[0;36mdot\u001b[1;34m(self, other)\u001b[0m\n\u001b[0;32m    361\u001b[0m \u001b[1;33m\u001b[0m\u001b[0m\n\u001b[0;32m    362\u001b[0m         \"\"\"\n\u001b[1;32m--> 363\u001b[1;33m         \u001b[1;32mreturn\u001b[0m \u001b[0mself\u001b[0m \u001b[1;33m*\u001b[0m \u001b[0mother\u001b[0m\u001b[1;33m\u001b[0m\u001b[1;33m\u001b[0m\u001b[0m\n\u001b[0m\u001b[0;32m    364\u001b[0m \u001b[1;33m\u001b[0m\u001b[0m\n\u001b[0;32m    365\u001b[0m     \u001b[1;32mdef\u001b[0m \u001b[0mpower\u001b[0m\u001b[1;33m(\u001b[0m\u001b[0mself\u001b[0m\u001b[1;33m,\u001b[0m \u001b[0mn\u001b[0m\u001b[1;33m,\u001b[0m \u001b[0mdtype\u001b[0m\u001b[1;33m=\u001b[0m\u001b[1;32mNone\u001b[0m\u001b[1;33m)\u001b[0m\u001b[1;33m:\u001b[0m\u001b[1;33m\u001b[0m\u001b[1;33m\u001b[0m\u001b[0m\n",
      "\u001b[1;32mG:\\Anaconda3\\lib\\site-packages\\scipy\\sparse\\base.py\u001b[0m in \u001b[0;36m__mul__\u001b[1;34m(self, other)\u001b[0m\n\u001b[0;32m    482\u001b[0m             \u001b[1;32mif\u001b[0m \u001b[0mself\u001b[0m\u001b[1;33m.\u001b[0m\u001b[0mshape\u001b[0m\u001b[1;33m[\u001b[0m\u001b[1;36m1\u001b[0m\u001b[1;33m]\u001b[0m \u001b[1;33m!=\u001b[0m \u001b[0mother\u001b[0m\u001b[1;33m.\u001b[0m\u001b[0mshape\u001b[0m\u001b[1;33m[\u001b[0m\u001b[1;36m0\u001b[0m\u001b[1;33m]\u001b[0m\u001b[1;33m:\u001b[0m\u001b[1;33m\u001b[0m\u001b[1;33m\u001b[0m\u001b[0m\n\u001b[0;32m    483\u001b[0m                 \u001b[1;32mraise\u001b[0m \u001b[0mValueError\u001b[0m\u001b[1;33m(\u001b[0m\u001b[1;34m'dimension mismatch'\u001b[0m\u001b[1;33m)\u001b[0m\u001b[1;33m\u001b[0m\u001b[1;33m\u001b[0m\u001b[0m\n\u001b[1;32m--> 484\u001b[1;33m             \u001b[1;32mreturn\u001b[0m \u001b[0mself\u001b[0m\u001b[1;33m.\u001b[0m\u001b[0m_mul_sparse_matrix\u001b[0m\u001b[1;33m(\u001b[0m\u001b[0mother\u001b[0m\u001b[1;33m)\u001b[0m\u001b[1;33m\u001b[0m\u001b[1;33m\u001b[0m\u001b[0m\n\u001b[0m\u001b[0;32m    485\u001b[0m \u001b[1;33m\u001b[0m\u001b[0m\n\u001b[0;32m    486\u001b[0m         \u001b[1;31m# If it's a list or whatever, treat it like a matrix\u001b[0m\u001b[1;33m\u001b[0m\u001b[1;33m\u001b[0m\u001b[1;33m\u001b[0m\u001b[0m\n",
      "\u001b[1;32mG:\\Anaconda3\\lib\\site-packages\\scipy\\sparse\\compressed.py\u001b[0m in \u001b[0;36m_mul_sparse_matrix\u001b[1;34m(self, other)\u001b[0m\n\u001b[0;32m    524\u001b[0m            \u001b[0mnp\u001b[0m\u001b[1;33m.\u001b[0m\u001b[0masarray\u001b[0m\u001b[1;33m(\u001b[0m\u001b[0mother\u001b[0m\u001b[1;33m.\u001b[0m\u001b[0mindices\u001b[0m\u001b[1;33m,\u001b[0m \u001b[0mdtype\u001b[0m\u001b[1;33m=\u001b[0m\u001b[0midx_dtype\u001b[0m\u001b[1;33m)\u001b[0m\u001b[1;33m,\u001b[0m\u001b[1;33m\u001b[0m\u001b[1;33m\u001b[0m\u001b[0m\n\u001b[0;32m    525\u001b[0m            \u001b[0mother\u001b[0m\u001b[1;33m.\u001b[0m\u001b[0mdata\u001b[0m\u001b[1;33m,\u001b[0m\u001b[1;33m\u001b[0m\u001b[1;33m\u001b[0m\u001b[0m\n\u001b[1;32m--> 526\u001b[1;33m            indptr, indices, data)\n\u001b[0m\u001b[0;32m    527\u001b[0m \u001b[1;33m\u001b[0m\u001b[0m\n\u001b[0;32m    528\u001b[0m         \u001b[1;32mreturn\u001b[0m \u001b[0mself\u001b[0m\u001b[1;33m.\u001b[0m\u001b[0m__class__\u001b[0m\u001b[1;33m(\u001b[0m\u001b[1;33m(\u001b[0m\u001b[0mdata\u001b[0m\u001b[1;33m,\u001b[0m \u001b[0mindices\u001b[0m\u001b[1;33m,\u001b[0m \u001b[0mindptr\u001b[0m\u001b[1;33m)\u001b[0m\u001b[1;33m,\u001b[0m \u001b[0mshape\u001b[0m\u001b[1;33m=\u001b[0m\u001b[1;33m(\u001b[0m\u001b[0mM\u001b[0m\u001b[1;33m,\u001b[0m \u001b[0mN\u001b[0m\u001b[1;33m)\u001b[0m\u001b[1;33m)\u001b[0m\u001b[1;33m\u001b[0m\u001b[1;33m\u001b[0m\u001b[0m\n",
      "\u001b[1;31mKeyboardInterrupt\u001b[0m: "
     ]
    }
   ],
   "source": [
    "cross_validation_bpr(purchases_sparse, 'bpr', param_grid)"
   ]
  },
  {
   "cell_type": "code",
   "execution_count": 27,
   "metadata": {},
   "outputs": [
    {
     "data": {
      "application/vnd.jupyter.widget-view+json": {
       "model_id": "444da3aa3cf44779a82cdd45aa2e8057",
       "version_major": 2,
       "version_minor": 0
      },
      "text/plain": [
       "HBox(children=(FloatProgress(value=0.0), HTML(value='')))"
      ]
     },
     "metadata": {},
     "output_type": "display_data"
    },
    {
     "name": "stdout",
     "output_type": "stream",
     "text": [
      "\n"
     ]
    },
    {
     "data": {
      "text/plain": [
       "(0.801, 0.674)"
      ]
     },
     "execution_count": 27,
     "metadata": {},
     "output_type": "execute_result"
    }
   ],
   "source": [
    "model = BayesianPersonalizedRanking(factors=40,regularization=0.1,learning_rate=0.1)\n",
    "# The literature suggests values between 0 and 3 for K1 and 0 and 1 for B. \n",
    "ratings = bm25_weight(product_train, K1= 1, B=0.9).tocsr()\n",
    "model.fit(product_train*50)\n",
    "item_vecs = model.user_factors\n",
    "user_vecs = model.item_factors\n",
    "store_auc, pop_auc = calc_mean_auc(product_train, product_users_altered, [sparse.csr_matrix(user_vecs), sparse.csr_matrix(item_vecs.T)], product_test)\n",
    "store_auc, pop_auc"
   ]
  },
  {
   "cell_type": "code",
   "execution_count": 114,
   "metadata": {},
   "outputs": [
    {
     "data": {
      "text/plain": [
       "array([71809, 71818, 71819, 71825, 71829, 71844, 71845, 71846, 71860,\n",
       "       71865, 71872, 71884, 71886, 71887, 71907, 71908, 71909, 71911,\n",
       "       71914, 71924, 71927, 71928, 71929, 71934, 71937, 71942, 71954,\n",
       "       71955, 71958, 71963, 71965, 71967, 71969, 71976, 71983, 71985,\n",
       "       71988, 71989, 71995, 72013, 72016, 72017, 72018, 72026, 72027,\n",
       "       72034, 72037, 72046, 72050, 72052, 72054, 72055, 72059, 72061,\n",
       "       72065, 72067, 72069, 72071, 72077, 72082, 72094, 72095, 72100,\n",
       "       72101, 72108, 72112, 72114, 72118, 72120, 72143, 72145, 72154,\n",
       "       72160, 72163, 72164, 72165, 72169, 72172, 72174, 72175, 72180,\n",
       "       72200, 72202, 72210, 72211, 72212, 72217, 72221, 72245, 72254,\n",
       "       72281, 72287, 72289, 72290, 72300, 72306, 72307, 72310, 72312,\n",
       "       72313], dtype=int64)"
      ]
     },
     "execution_count": 114,
     "metadata": {},
     "output_type": "execute_result"
    }
   ],
   "source": [
    "customers_arr[5000:5100]"
   ]
  },
  {
   "cell_type": "markdown",
   "metadata": {},
   "source": [
    "### Get actual purchase vs model recommendations"
   ]
  },
  {
   "cell_type": "code",
   "execution_count": 28,
   "metadata": {},
   "outputs": [],
   "source": [
    "def get_rec_items(model, customer_id, sparse_matrix, customer_list, item_list, item_lookup, num_items = 10):\n",
    "    cust_ind = np.where(customer_list == customer_id)[0][0] # Returns the index row of our customer id\n",
    "    purchased_ind = sparse_matrix[:,cust_ind].nonzero()[0] # Get column indices of purchased items\n",
    "    prod_codes = item_list[purchased_ind] # Get the stock codes for our purchased items\n",
    "    print(prod_codes)\n",
    "    purchased_items = item_lookup.loc[item_lookup.PRODUCT_DIM_KEY.isin(prod_codes)]\n",
    "    \n",
    "    print('-------------------------------------------------------------------------------------')\n",
    "    print('Print purchased items in train set')\n",
    "    print('-------------------------------------------------------------------------------------')\n",
    "    print(tabulate(purchased_items))\n",
    "    print('-------------------------------------------------------------------------------------')\n",
    "    print('Print full actual purchases above threshold')\n",
    "    print('-------------------------------------------------------------------------------------')\n",
    "    print(tabulate(df_lim[df_lim['CUSTOMER_DIM_KEY'] == customer_id]))\n",
    "    print('-------------------------------------------------------------------------------------')\n",
    "    print('Print model recommendations')\n",
    "    print('-------------------------------------------------------------------------------------')\n",
    "    \n",
    "    recom = model.recommend(cust_ind, sparse_matrix.T.tocsr(),filter_items=purchased_ind.tolist(), N= num_items)\n",
    "    rec_keys = [] # start empty list to store items\n",
    "    descriptions = []\n",
    "    for index in recom:\n",
    "        key = item_list[index[0]]\n",
    "        rec_keys.append(key)\n",
    "        descriptions.append(item_lookup.PRODUCT_NAME.loc[item_lookup.PRODUCT_DIM_KEY == key].iloc[0])\n",
    "        \n",
    "    scores = [item[1] for item in recom]\n",
    "    final_frame = pd.DataFrame({'PRODUCT_DIM_KEY': rec_keys, 'PRODUCT_NAME': descriptions, 'SCORE': scores}) # Create a dataframe \n",
    "    final_frame[['PRODUCT_DIM_KEY', 'PRODUCT_NAME','SCORE']]\n",
    "    return final_frame[['PRODUCT_DIM_KEY', 'PRODUCT_NAME','SCORE']] # Switch order of columns around"
   ]
  },
  {
   "cell_type": "code",
   "execution_count": 29,
   "metadata": {},
   "outputs": [
    {
     "name": "stdout",
     "output_type": "stream",
     "text": [
      "[126746 126792]\n",
      "-------------------------------------------------------------------------------------\n",
      "Print purchased items in train set\n",
      "-------------------------------------------------------------------------------------\n",
      "-----  ------  -----------------------------------------------------------------------\n",
      "10066  126746  Bouquet of Flowers Bread & Butter Plate 6.25 in Round\n",
      "10943  126792  Old Master Tulips Red, Yellow, & Orange Tulip Salad Plate 7.75 in Round\n",
      "-----  ------  -----------------------------------------------------------------------\n",
      "-------------------------------------------------------------------------------------\n",
      "Print full actual purchases above threshold\n",
      "-------------------------------------------------------------------------------------\n",
      "-----  -----  ------  -  -----------------------------------------------------------------------  -------  ----------------------  --------------------  ---------------  ---------  -----\n",
      "10066  55974  126746  3  Bouquet of Flowers Bread & Butter Plate 6.25 in Round                    Unknown  bread & butter plates   TABLE-SETTINGS-YELLO  Anna Weatherley  COMPLETED  16812\n",
      "10314  55974  126746  2  Bouquet of Flowers Bread & Butter Plate 6.25 in Round                    Unknown  bread & butter plates   TABLE-SETTINGS-YELLO  Anna Weatherley  COMPLETED  16795\n",
      "10943  55974  126792  1  Old Master Tulips Red, Yellow, & Orange Tulip Salad Plate 7.75 in Round  Unknown  salad & dessert plates  OLD-MASTER-TUL-CHAR   Anna Weatherley  COMPLETED  16783\n",
      "11018  55974  126746  1  Bouquet of Flowers Bread & Butter Plate 6.25 in Round                    Unknown  bread & butter plates   TABLE-SETTINGS-YELLO  Anna Weatherley  COMPLETED  16785\n",
      "-----  -----  ------  -  -----------------------------------------------------------------------  -------  ----------------------  --------------------  ---------------  ---------  -----\n",
      "-------------------------------------------------------------------------------------\n",
      "Print model recommendations\n",
      "-------------------------------------------------------------------------------------\n"
     ]
    },
    {
     "data": {
      "text/html": [
       "<div>\n",
       "<style scoped>\n",
       "    .dataframe tbody tr th:only-of-type {\n",
       "        vertical-align: middle;\n",
       "    }\n",
       "\n",
       "    .dataframe tbody tr th {\n",
       "        vertical-align: top;\n",
       "    }\n",
       "\n",
       "    .dataframe thead th {\n",
       "        text-align: right;\n",
       "    }\n",
       "</style>\n",
       "<table border=\"1\" class=\"dataframe\">\n",
       "  <thead>\n",
       "    <tr style=\"text-align: right;\">\n",
       "      <th></th>\n",
       "      <th>PRODUCT_DIM_KEY</th>\n",
       "      <th>PRODUCT_NAME</th>\n",
       "      <th>SCORE</th>\n",
       "    </tr>\n",
       "  </thead>\n",
       "  <tbody>\n",
       "    <tr>\n",
       "      <th>0</th>\n",
       "      <td>303920</td>\n",
       "      <td>Pomegranate Canister Medium</td>\n",
       "      <td>0.882262</td>\n",
       "    </tr>\n",
       "    <tr>\n",
       "      <th>1</th>\n",
       "      <td>506459</td>\n",
       "      <td>Quotidien White Truffle 4pc Setting (KQ01/17, ...</td>\n",
       "      <td>0.852599</td>\n",
       "    </tr>\n",
       "    <tr>\n",
       "      <th>2</th>\n",
       "      <td>571974</td>\n",
       "      <td>Clothespin Pull</td>\n",
       "      <td>0.843237</td>\n",
       "    </tr>\n",
       "    <tr>\n",
       "      <th>3</th>\n",
       "      <td>556980</td>\n",
       "      <td>Santorini Assorted Pasta Bowls - Set Of 4 - 9....</td>\n",
       "      <td>0.830494</td>\n",
       "    </tr>\n",
       "    <tr>\n",
       "      <th>4</th>\n",
       "      <td>303918</td>\n",
       "      <td>Pomegranate Canister Large</td>\n",
       "      <td>0.824866</td>\n",
       "    </tr>\n",
       "    <tr>\n",
       "      <th>5</th>\n",
       "      <td>172921</td>\n",
       "      <td>Black Orchid Salt and Pepper</td>\n",
       "      <td>0.824067</td>\n",
       "    </tr>\n",
       "    <tr>\n",
       "      <th>6</th>\n",
       "      <td>522296</td>\n",
       "      <td>Kaleidoscope Illusion Purple 14x20 in. Placemat</td>\n",
       "      <td>0.823866</td>\n",
       "    </tr>\n",
       "    <tr>\n",
       "      <th>7</th>\n",
       "      <td>331582</td>\n",
       "      <td>Tortoise Salad Fork</td>\n",
       "      <td>0.800035</td>\n",
       "    </tr>\n",
       "    <tr>\n",
       "      <th>8</th>\n",
       "      <td>183142</td>\n",
       "      <td>Aladdin Brilliant Clear Five-Piece Place Setting</td>\n",
       "      <td>0.756955</td>\n",
       "    </tr>\n",
       "    <tr>\n",
       "      <th>9</th>\n",
       "      <td>405776</td>\n",
       "      <td>Jagger Arch Mirror Antique Gold</td>\n",
       "      <td>0.731300</td>\n",
       "    </tr>\n",
       "    <tr>\n",
       "      <th>10</th>\n",
       "      <td>542073</td>\n",
       "      <td>London Stainless Steel Fruit Spoon</td>\n",
       "      <td>0.726502</td>\n",
       "    </tr>\n",
       "    <tr>\n",
       "      <th>11</th>\n",
       "      <td>312755</td>\n",
       "      <td>Ashbourne Tea Saucer</td>\n",
       "      <td>0.721526</td>\n",
       "    </tr>\n",
       "    <tr>\n",
       "      <th>12</th>\n",
       "      <td>471808</td>\n",
       "      <td>Bamboo Stainless Dinner fork</td>\n",
       "      <td>0.719880</td>\n",
       "    </tr>\n",
       "    <tr>\n",
       "      <th>13</th>\n",
       "      <td>184016</td>\n",
       "      <td>Harriet Fishbowl Vase</td>\n",
       "      <td>0.713447</td>\n",
       "    </tr>\n",
       "    <tr>\n",
       "      <th>14</th>\n",
       "      <td>348108</td>\n",
       "      <td>Avignon Frame 5 In X 7 In Silver Mop</td>\n",
       "      <td>0.705928</td>\n",
       "    </tr>\n",
       "    <tr>\n",
       "      <th>15</th>\n",
       "      <td>176900</td>\n",
       "      <td>Watercolor Dots duvet cover full/queen</td>\n",
       "      <td>0.703261</td>\n",
       "    </tr>\n",
       "    <tr>\n",
       "      <th>16</th>\n",
       "      <td>433847</td>\n",
       "      <td>Bistrot Shiny Solid Burgundy Soup Spoon</td>\n",
       "      <td>0.703246</td>\n",
       "    </tr>\n",
       "    <tr>\n",
       "      <th>17</th>\n",
       "      <td>393097</td>\n",
       "      <td>Nido Plate Lid For Ovenproof Dish Oval 11 In</td>\n",
       "      <td>0.697432</td>\n",
       "    </tr>\n",
       "    <tr>\n",
       "      <th>18</th>\n",
       "      <td>348211</td>\n",
       "      <td>Oxford Gray Frame 8 In X10 In</td>\n",
       "      <td>0.692534</td>\n",
       "    </tr>\n",
       "    <tr>\n",
       "      <th>19</th>\n",
       "      <td>405529</td>\n",
       "      <td>Large Cockatoos Pair</td>\n",
       "      <td>0.689892</td>\n",
       "    </tr>\n",
       "  </tbody>\n",
       "</table>\n",
       "</div>"
      ],
      "text/plain": [
       "    PRODUCT_DIM_KEY                                       PRODUCT_NAME  \\\n",
       "0            303920                        Pomegranate Canister Medium   \n",
       "1            506459  Quotidien White Truffle 4pc Setting (KQ01/17, ...   \n",
       "2            571974                                    Clothespin Pull   \n",
       "3            556980  Santorini Assorted Pasta Bowls - Set Of 4 - 9....   \n",
       "4            303918                         Pomegranate Canister Large   \n",
       "5            172921                       Black Orchid Salt and Pepper   \n",
       "6            522296    Kaleidoscope Illusion Purple 14x20 in. Placemat   \n",
       "7            331582                                Tortoise Salad Fork   \n",
       "8            183142   Aladdin Brilliant Clear Five-Piece Place Setting   \n",
       "9            405776                    Jagger Arch Mirror Antique Gold   \n",
       "10           542073                 London Stainless Steel Fruit Spoon   \n",
       "11           312755                               Ashbourne Tea Saucer   \n",
       "12           471808                       Bamboo Stainless Dinner fork   \n",
       "13           184016                              Harriet Fishbowl Vase   \n",
       "14           348108               Avignon Frame 5 In X 7 In Silver Mop   \n",
       "15           176900             Watercolor Dots duvet cover full/queen   \n",
       "16           433847            Bistrot Shiny Solid Burgundy Soup Spoon   \n",
       "17           393097       Nido Plate Lid For Ovenproof Dish Oval 11 In   \n",
       "18           348211                      Oxford Gray Frame 8 In X10 In   \n",
       "19           405529                               Large Cockatoos Pair   \n",
       "\n",
       "       SCORE  \n",
       "0   0.882262  \n",
       "1   0.852599  \n",
       "2   0.843237  \n",
       "3   0.830494  \n",
       "4   0.824866  \n",
       "5   0.824067  \n",
       "6   0.823866  \n",
       "7   0.800035  \n",
       "8   0.756955  \n",
       "9   0.731300  \n",
       "10  0.726502  \n",
       "11  0.721526  \n",
       "12  0.719880  \n",
       "13  0.713447  \n",
       "14  0.705928  \n",
       "15  0.703261  \n",
       "16  0.703246  \n",
       "17  0.697432  \n",
       "18  0.692534  \n",
       "19  0.689892  "
      ]
     },
     "execution_count": 29,
     "metadata": {},
     "output_type": "execute_result"
    }
   ],
   "source": [
    "get_rec_items(model, 55974, product_test, customers_arr, products_arr, item_lookup, num_items = 20)"
   ]
  },
  {
   "cell_type": "code",
   "execution_count": 70,
   "metadata": {},
   "outputs": [
    {
     "data": {
      "application/vnd.jupyter.widget-view+json": {
       "model_id": "d33d15138a1e404cac7ac88d251acf99",
       "version_major": 2,
       "version_minor": 0
      },
      "text/plain": [
       "HBox(children=(FloatProgress(value=0.0, max=15.0), HTML(value='')))"
      ]
     },
     "metadata": {},
     "output_type": "display_data"
    },
    {
     "name": "stdout",
     "output_type": "stream",
     "text": [
      "\n"
     ]
    },
    {
     "data": {
      "text/plain": [
       "(0.775, 0.674)"
      ]
     },
     "execution_count": 70,
     "metadata": {},
     "output_type": "execute_result"
    }
   ],
   "source": [
    "model = AlternatingLeastSquares(factors=80,regularization=0.0001)\n",
    "# The literature suggests values between 0 and 3 for K1 and 0 and 1 for B. \n",
    "ratings = bm25_weight(product_train, K1= 0.1, B=1).tocsr()\n",
    "model.fit(ratings)\n",
    "item_vecs = model.user_factors\n",
    "user_vecs = model.item_factors\n",
    "store_auc, pop_auc = calc_mean_auc(product_train, product_users_altered, [sparse.csr_matrix(user_vecs), sparse.csr_matrix(item_vecs.T)], product_test)\n",
    "store_auc, pop_auc"
   ]
  },
  {
   "cell_type": "code",
   "execution_count": 26,
   "metadata": {},
   "outputs": [
    {
     "name": "stdout",
     "output_type": "stream",
     "text": [
      "[126746 126792]\n",
      "-------------------------------------------------------------------------------------\n",
      "Print purchased items in train set\n",
      "-------------------------------------------------------------------------------------\n",
      "-----  ------  -----------------------------------------------------------------------\n",
      "10066  126746  Bouquet of Flowers Bread & Butter Plate 6.25 in Round\n",
      "10943  126792  Old Master Tulips Red, Yellow, & Orange Tulip Salad Plate 7.75 in Round\n",
      "-----  ------  -----------------------------------------------------------------------\n",
      "-------------------------------------------------------------------------------------\n",
      "Print full actual purchases above threshold\n",
      "-------------------------------------------------------------------------------------\n",
      "-----  -----  ------  -  -----------------------------------------------------------------------  -------  ----------------------  --------------------  ---------------  ---------  -----\n",
      "10066  55974  126746  3  Bouquet of Flowers Bread & Butter Plate 6.25 in Round                    Unknown  bread & butter plates   TABLE-SETTINGS-YELLO  Anna Weatherley  COMPLETED  16812\n",
      "10314  55974  126746  2  Bouquet of Flowers Bread & Butter Plate 6.25 in Round                    Unknown  bread & butter plates   TABLE-SETTINGS-YELLO  Anna Weatherley  COMPLETED  16795\n",
      "10943  55974  126792  1  Old Master Tulips Red, Yellow, & Orange Tulip Salad Plate 7.75 in Round  Unknown  salad & dessert plates  OLD-MASTER-TUL-CHAR   Anna Weatherley  COMPLETED  16783\n",
      "11018  55974  126746  1  Bouquet of Flowers Bread & Butter Plate 6.25 in Round                    Unknown  bread & butter plates   TABLE-SETTINGS-YELLO  Anna Weatherley  COMPLETED  16785\n",
      "-----  -----  ------  -  -----------------------------------------------------------------------  -------  ----------------------  --------------------  ---------------  ---------  -----\n",
      "-------------------------------------------------------------------------------------\n",
      "Print model recommendations\n",
      "-------------------------------------------------------------------------------------\n"
     ]
    },
    {
     "data": {
      "text/html": [
       "<div>\n",
       "<style scoped>\n",
       "    .dataframe tbody tr th:only-of-type {\n",
       "        vertical-align: middle;\n",
       "    }\n",
       "\n",
       "    .dataframe tbody tr th {\n",
       "        vertical-align: top;\n",
       "    }\n",
       "\n",
       "    .dataframe thead th {\n",
       "        text-align: right;\n",
       "    }\n",
       "</style>\n",
       "<table border=\"1\" class=\"dataframe\">\n",
       "  <thead>\n",
       "    <tr style=\"text-align: right;\">\n",
       "      <th></th>\n",
       "      <th>PRODUCT_DIM_KEY</th>\n",
       "      <th>PRODUCT_NAME</th>\n",
       "      <th>SCORE</th>\n",
       "    </tr>\n",
       "  </thead>\n",
       "  <tbody>\n",
       "    <tr>\n",
       "      <th>0</th>\n",
       "      <td>303920</td>\n",
       "      <td>Pomegranate Canister Medium</td>\n",
       "      <td>0.056038</td>\n",
       "    </tr>\n",
       "    <tr>\n",
       "      <th>1</th>\n",
       "      <td>303918</td>\n",
       "      <td>Pomegranate Canister Large</td>\n",
       "      <td>0.047937</td>\n",
       "    </tr>\n",
       "    <tr>\n",
       "      <th>2</th>\n",
       "      <td>172958</td>\n",
       "      <td>Botanical Leaf Tissue Box</td>\n",
       "      <td>0.044049</td>\n",
       "    </tr>\n",
       "    <tr>\n",
       "      <th>3</th>\n",
       "      <td>172993</td>\n",
       "      <td>Black Orchid Candle</td>\n",
       "      <td>0.040760</td>\n",
       "    </tr>\n",
       "    <tr>\n",
       "      <th>4</th>\n",
       "      <td>172921</td>\n",
       "      <td>Black Orchid Salt and Pepper</td>\n",
       "      <td>0.029125</td>\n",
       "    </tr>\n",
       "    <tr>\n",
       "      <th>5</th>\n",
       "      <td>124043</td>\n",
       "      <td>Linen Wash Original Floral Fusion 64 oz</td>\n",
       "      <td>0.027242</td>\n",
       "    </tr>\n",
       "    <tr>\n",
       "      <th>6</th>\n",
       "      <td>171325</td>\n",
       "      <td>Vuelta Atoll/Ocean Blue Cake Dish/Tray 12.6 x ...</td>\n",
       "      <td>0.026932</td>\n",
       "    </tr>\n",
       "    <tr>\n",
       "      <th>7</th>\n",
       "      <td>171304</td>\n",
       "      <td>Vuelta Atoll/Ocean Blue individual Bowl 6.3 in</td>\n",
       "      <td>0.026759</td>\n",
       "    </tr>\n",
       "    <tr>\n",
       "      <th>8</th>\n",
       "      <td>348315</td>\n",
       "      <td>Napali Set Of 2: Desk Blotter And Round Mouse ...</td>\n",
       "      <td>0.026302</td>\n",
       "    </tr>\n",
       "    <tr>\n",
       "      <th>9</th>\n",
       "      <td>187250</td>\n",
       "      <td>Straw Loop Natural Placemat</td>\n",
       "      <td>0.024801</td>\n",
       "    </tr>\n",
       "    <tr>\n",
       "      <th>10</th>\n",
       "      <td>148458</td>\n",
       "      <td>Sailboat, Medium</td>\n",
       "      <td>0.024693</td>\n",
       "    </tr>\n",
       "    <tr>\n",
       "      <th>11</th>\n",
       "      <td>171302</td>\n",
       "      <td>Vuelta Atoll/Ocean Blue Dessert Plate 8.7 in</td>\n",
       "      <td>0.024142</td>\n",
       "    </tr>\n",
       "    <tr>\n",
       "      <th>12</th>\n",
       "      <td>412749</td>\n",
       "      <td>Coq Design Orange Kitchen Towel 22\"X30\",100% C...</td>\n",
       "      <td>0.024131</td>\n",
       "    </tr>\n",
       "    <tr>\n",
       "      <th>13</th>\n",
       "      <td>348314</td>\n",
       "      <td>Napali Desk Set: Letter Tray Envelope Holder P...</td>\n",
       "      <td>0.023401</td>\n",
       "    </tr>\n",
       "    <tr>\n",
       "      <th>14</th>\n",
       "      <td>148536</td>\n",
       "      <td>Barre Slate Dinner Plate 11 in</td>\n",
       "      <td>0.022361</td>\n",
       "    </tr>\n",
       "    <tr>\n",
       "      <th>15</th>\n",
       "      <td>196528</td>\n",
       "      <td>Living Asparagus tong 9 in.</td>\n",
       "      <td>0.022329</td>\n",
       "    </tr>\n",
       "    <tr>\n",
       "      <th>16</th>\n",
       "      <td>148459</td>\n",
       "      <td>Sailboat, Small</td>\n",
       "      <td>0.021858</td>\n",
       "    </tr>\n",
       "    <tr>\n",
       "      <th>17</th>\n",
       "      <td>148545</td>\n",
       "      <td>Barre Slate Side Plate</td>\n",
       "      <td>0.021806</td>\n",
       "    </tr>\n",
       "    <tr>\n",
       "      <th>18</th>\n",
       "      <td>303476</td>\n",
       "      <td>Origami Multico Placemat Rect 19 x 14 in</td>\n",
       "      <td>0.021351</td>\n",
       "    </tr>\n",
       "    <tr>\n",
       "      <th>19</th>\n",
       "      <td>171299</td>\n",
       "      <td>Vuelta Atoll/Ocean Blue Dinner Plate Gm 11.4 in</td>\n",
       "      <td>0.020802</td>\n",
       "    </tr>\n",
       "  </tbody>\n",
       "</table>\n",
       "</div>"
      ],
      "text/plain": [
       "    PRODUCT_DIM_KEY                                       PRODUCT_NAME  \\\n",
       "0            303920                        Pomegranate Canister Medium   \n",
       "1            303918                         Pomegranate Canister Large   \n",
       "2            172958                          Botanical Leaf Tissue Box   \n",
       "3            172993                                Black Orchid Candle   \n",
       "4            172921                       Black Orchid Salt and Pepper   \n",
       "5            124043            Linen Wash Original Floral Fusion 64 oz   \n",
       "6            171325  Vuelta Atoll/Ocean Blue Cake Dish/Tray 12.6 x ...   \n",
       "7            171304     Vuelta Atoll/Ocean Blue individual Bowl 6.3 in   \n",
       "8            348315  Napali Set Of 2: Desk Blotter And Round Mouse ...   \n",
       "9            187250                        Straw Loop Natural Placemat   \n",
       "10           148458                                   Sailboat, Medium   \n",
       "11           171302       Vuelta Atoll/Ocean Blue Dessert Plate 8.7 in   \n",
       "12           412749  Coq Design Orange Kitchen Towel 22\"X30\",100% C...   \n",
       "13           348314  Napali Desk Set: Letter Tray Envelope Holder P...   \n",
       "14           148536                     Barre Slate Dinner Plate 11 in   \n",
       "15           196528                        Living Asparagus tong 9 in.   \n",
       "16           148459                                    Sailboat, Small   \n",
       "17           148545                             Barre Slate Side Plate   \n",
       "18           303476           Origami Multico Placemat Rect 19 x 14 in   \n",
       "19           171299    Vuelta Atoll/Ocean Blue Dinner Plate Gm 11.4 in   \n",
       "\n",
       "       SCORE  \n",
       "0   0.056038  \n",
       "1   0.047937  \n",
       "2   0.044049  \n",
       "3   0.040760  \n",
       "4   0.029125  \n",
       "5   0.027242  \n",
       "6   0.026932  \n",
       "7   0.026759  \n",
       "8   0.026302  \n",
       "9   0.024801  \n",
       "10  0.024693  \n",
       "11  0.024142  \n",
       "12  0.024131  \n",
       "13  0.023401  \n",
       "14  0.022361  \n",
       "15  0.022329  \n",
       "16  0.021858  \n",
       "17  0.021806  \n",
       "18  0.021351  \n",
       "19  0.020802  "
      ]
     },
     "execution_count": 26,
     "metadata": {},
     "output_type": "execute_result"
    }
   ],
   "source": [
    "get_rec_items(model, 55974, product_test, customers_arr, products_arr, item_lookup, num_items = 20)"
   ]
  },
  {
   "cell_type": "code",
   "execution_count": 72,
   "metadata": {},
   "outputs": [],
   "source": [
    "def get_sim_item(item_id):\n",
    "    purchased_items = item_lookup.loc[item_lookup.PRODUCT_DIM_KEY.isin([item_id])]\n",
    "    item_ind = np.where(products_arr == item_id)\n",
    "    print(purchased_items)\n",
    "    arr = model.similar_items(item_ind[0][0], N=20)\n",
    "    rec_keys = [] # start empty list to store items\n",
    "    descriptions = []\n",
    "    for index in arr:\n",
    "        key = products_arr[index[0]]\n",
    "        rec_keys.append(key)\n",
    "        descriptions.append(item_lookup.PRODUCT_NAME.loc[item_lookup.PRODUCT_DIM_KEY == key].iloc[0])\n",
    "        \n",
    "    scores = [item[1] for item in arr]\n",
    "    final_frame = pd.DataFrame({'PRODUCT_DIM_KEY': rec_keys, 'PRODUCT_NAME': descriptions, 'SCORE': scores}) # Create a dataframe \n",
    "    final_frame[['PRODUCT_DIM_KEY', 'PRODUCT_NAME','SCORE']]\n",
    "    return final_frame[['PRODUCT_DIM_KEY', 'PRODUCT_NAME','SCORE']] # Switch order of columns around"
   ]
  },
  {
   "cell_type": "code",
   "execution_count": 75,
   "metadata": {},
   "outputs": [
    {
     "name": "stdout",
     "output_type": "stream",
     "text": [
      "       PRODUCT_DIM_KEY                                       PRODUCT_NAME\n",
      "10066           126746  Bouquet of Flowers Bread & Butter Plate 6.25 i...\n"
     ]
    },
    {
     "data": {
      "text/html": [
       "<div>\n",
       "<style scoped>\n",
       "    .dataframe tbody tr th:only-of-type {\n",
       "        vertical-align: middle;\n",
       "    }\n",
       "\n",
       "    .dataframe tbody tr th {\n",
       "        vertical-align: top;\n",
       "    }\n",
       "\n",
       "    .dataframe thead th {\n",
       "        text-align: right;\n",
       "    }\n",
       "</style>\n",
       "<table border=\"1\" class=\"dataframe\">\n",
       "  <thead>\n",
       "    <tr style=\"text-align: right;\">\n",
       "      <th></th>\n",
       "      <th>PRODUCT_DIM_KEY</th>\n",
       "      <th>PRODUCT_NAME</th>\n",
       "      <th>SCORE</th>\n",
       "    </tr>\n",
       "  </thead>\n",
       "  <tbody>\n",
       "    <tr>\n",
       "      <th>0</th>\n",
       "      <td>126746</td>\n",
       "      <td>Bouquet of Flowers Bread &amp; Butter Plate 6.25 i...</td>\n",
       "      <td>1.089021</td>\n",
       "    </tr>\n",
       "    <tr>\n",
       "      <th>1</th>\n",
       "      <td>303920</td>\n",
       "      <td>Pomegranate Canister Medium</td>\n",
       "      <td>0.976083</td>\n",
       "    </tr>\n",
       "    <tr>\n",
       "      <th>2</th>\n",
       "      <td>303918</td>\n",
       "      <td>Pomegranate Canister Large</td>\n",
       "      <td>0.912312</td>\n",
       "    </tr>\n",
       "    <tr>\n",
       "      <th>3</th>\n",
       "      <td>172921</td>\n",
       "      <td>Black Orchid Salt and Pepper</td>\n",
       "      <td>0.847773</td>\n",
       "    </tr>\n",
       "    <tr>\n",
       "      <th>4</th>\n",
       "      <td>172958</td>\n",
       "      <td>Botanical Leaf Tissue Box</td>\n",
       "      <td>0.690134</td>\n",
       "    </tr>\n",
       "    <tr>\n",
       "      <th>5</th>\n",
       "      <td>172993</td>\n",
       "      <td>Black Orchid Candle</td>\n",
       "      <td>0.596023</td>\n",
       "    </tr>\n",
       "    <tr>\n",
       "      <th>6</th>\n",
       "      <td>499116</td>\n",
       "      <td>Vecchio Ginori 9 3/4 In. Salad Bowl Vecchio Gi...</td>\n",
       "      <td>0.574746</td>\n",
       "    </tr>\n",
       "    <tr>\n",
       "      <th>7</th>\n",
       "      <td>471592</td>\n",
       "      <td>Christmas Tartan Red Napkin</td>\n",
       "      <td>0.559289</td>\n",
       "    </tr>\n",
       "    <tr>\n",
       "      <th>8</th>\n",
       "      <td>403632</td>\n",
       "      <td>L'Ame Stainless Steel Dessert/Salad Fork</td>\n",
       "      <td>0.533346</td>\n",
       "    </tr>\n",
       "    <tr>\n",
       "      <th>9</th>\n",
       "      <td>304320</td>\n",
       "      <td>Bona Acrylic Small Bottle Clear</td>\n",
       "      <td>0.523527</td>\n",
       "    </tr>\n",
       "    <tr>\n",
       "      <th>10</th>\n",
       "      <td>337267</td>\n",
       "      <td>Blue Fluted Mega Coup Lunch Plate</td>\n",
       "      <td>0.518818</td>\n",
       "    </tr>\n",
       "    <tr>\n",
       "      <th>11</th>\n",
       "      <td>368643</td>\n",
       "      <td>Lauriers Silverplated Dinner Spoon</td>\n",
       "      <td>0.508859</td>\n",
       "    </tr>\n",
       "    <tr>\n",
       "      <th>12</th>\n",
       "      <td>212738</td>\n",
       "      <td>Vecchio Ginori White Oval gravy boat</td>\n",
       "      <td>0.506955</td>\n",
       "    </tr>\n",
       "    <tr>\n",
       "      <th>13</th>\n",
       "      <td>403631</td>\n",
       "      <td>L'Ame Stainless Steel Dessert Spoon</td>\n",
       "      <td>0.498401</td>\n",
       "    </tr>\n",
       "    <tr>\n",
       "      <th>14</th>\n",
       "      <td>341412</td>\n",
       "      <td>Tchaikovsky Set Of 4 Espresso Cups</td>\n",
       "      <td>0.492400</td>\n",
       "    </tr>\n",
       "    <tr>\n",
       "      <th>15</th>\n",
       "      <td>146810</td>\n",
       "      <td>Simply Anna Antique Dinner Plate 10.5 in Round</td>\n",
       "      <td>0.484889</td>\n",
       "    </tr>\n",
       "    <tr>\n",
       "      <th>16</th>\n",
       "      <td>304269</td>\n",
       "      <td>Federica Acrylic Pitcher Turquoise</td>\n",
       "      <td>0.483076</td>\n",
       "    </tr>\n",
       "    <tr>\n",
       "      <th>17</th>\n",
       "      <td>341703</td>\n",
       "      <td>Blue Band Charger</td>\n",
       "      <td>0.478260</td>\n",
       "    </tr>\n",
       "    <tr>\n",
       "      <th>18</th>\n",
       "      <td>333255</td>\n",
       "      <td>Natte 90 in square Tablecloth, White</td>\n",
       "      <td>0.476521</td>\n",
       "    </tr>\n",
       "    <tr>\n",
       "      <th>19</th>\n",
       "      <td>504847</td>\n",
       "      <td>Fleur Polycarbonate Teal Large Tumbler 24 Oz</td>\n",
       "      <td>0.465410</td>\n",
       "    </tr>\n",
       "  </tbody>\n",
       "</table>\n",
       "</div>"
      ],
      "text/plain": [
       "    PRODUCT_DIM_KEY                                       PRODUCT_NAME  \\\n",
       "0            126746  Bouquet of Flowers Bread & Butter Plate 6.25 i...   \n",
       "1            303920                        Pomegranate Canister Medium   \n",
       "2            303918                         Pomegranate Canister Large   \n",
       "3            172921                       Black Orchid Salt and Pepper   \n",
       "4            172958                          Botanical Leaf Tissue Box   \n",
       "5            172993                                Black Orchid Candle   \n",
       "6            499116  Vecchio Ginori 9 3/4 In. Salad Bowl Vecchio Gi...   \n",
       "7            471592                        Christmas Tartan Red Napkin   \n",
       "8            403632           L'Ame Stainless Steel Dessert/Salad Fork   \n",
       "9            304320                    Bona Acrylic Small Bottle Clear   \n",
       "10           337267                  Blue Fluted Mega Coup Lunch Plate   \n",
       "11           368643                 Lauriers Silverplated Dinner Spoon   \n",
       "12           212738               Vecchio Ginori White Oval gravy boat   \n",
       "13           403631                L'Ame Stainless Steel Dessert Spoon   \n",
       "14           341412                 Tchaikovsky Set Of 4 Espresso Cups   \n",
       "15           146810     Simply Anna Antique Dinner Plate 10.5 in Round   \n",
       "16           304269                 Federica Acrylic Pitcher Turquoise   \n",
       "17           341703                                  Blue Band Charger   \n",
       "18           333255               Natte 90 in square Tablecloth, White   \n",
       "19           504847       Fleur Polycarbonate Teal Large Tumbler 24 Oz   \n",
       "\n",
       "       SCORE  \n",
       "0   1.089021  \n",
       "1   0.976083  \n",
       "2   0.912312  \n",
       "3   0.847773  \n",
       "4   0.690134  \n",
       "5   0.596023  \n",
       "6   0.574746  \n",
       "7   0.559289  \n",
       "8   0.533346  \n",
       "9   0.523527  \n",
       "10  0.518818  \n",
       "11  0.508859  \n",
       "12  0.506955  \n",
       "13  0.498401  \n",
       "14  0.492400  \n",
       "15  0.484889  \n",
       "16  0.483076  \n",
       "17  0.478260  \n",
       "18  0.476521  \n",
       "19  0.465410  "
      ]
     },
     "execution_count": 75,
     "metadata": {},
     "output_type": "execute_result"
    }
   ],
   "source": [
    "#BPR\n",
    "get_sim_item(126746)"
   ]
  },
  {
   "cell_type": "code",
   "execution_count": 73,
   "metadata": {},
   "outputs": [
    {
     "name": "stdout",
     "output_type": "stream",
     "text": [
      "       PRODUCT_DIM_KEY                                       PRODUCT_NAME\n",
      "10066           126746  Bouquet of Flowers Bread & Butter Plate 6.25 i...\n"
     ]
    },
    {
     "data": {
      "text/html": [
       "<div>\n",
       "<style scoped>\n",
       "    .dataframe tbody tr th:only-of-type {\n",
       "        vertical-align: middle;\n",
       "    }\n",
       "\n",
       "    .dataframe tbody tr th {\n",
       "        vertical-align: top;\n",
       "    }\n",
       "\n",
       "    .dataframe thead th {\n",
       "        text-align: right;\n",
       "    }\n",
       "</style>\n",
       "<table border=\"1\" class=\"dataframe\">\n",
       "  <thead>\n",
       "    <tr style=\"text-align: right;\">\n",
       "      <th></th>\n",
       "      <th>PRODUCT_DIM_KEY</th>\n",
       "      <th>PRODUCT_NAME</th>\n",
       "      <th>SCORE</th>\n",
       "    </tr>\n",
       "  </thead>\n",
       "  <tbody>\n",
       "    <tr>\n",
       "      <th>0</th>\n",
       "      <td>126746</td>\n",
       "      <td>Bouquet of Flowers Bread &amp; Butter Plate 6.25 i...</td>\n",
       "      <td>0.026698</td>\n",
       "    </tr>\n",
       "    <tr>\n",
       "      <th>1</th>\n",
       "      <td>172921</td>\n",
       "      <td>Black Orchid Salt and Pepper</td>\n",
       "      <td>0.026629</td>\n",
       "    </tr>\n",
       "    <tr>\n",
       "      <th>2</th>\n",
       "      <td>303918</td>\n",
       "      <td>Pomegranate Canister Large</td>\n",
       "      <td>0.026397</td>\n",
       "    </tr>\n",
       "    <tr>\n",
       "      <th>3</th>\n",
       "      <td>303920</td>\n",
       "      <td>Pomegranate Canister Medium</td>\n",
       "      <td>0.026338</td>\n",
       "    </tr>\n",
       "    <tr>\n",
       "      <th>4</th>\n",
       "      <td>172993</td>\n",
       "      <td>Black Orchid Candle</td>\n",
       "      <td>0.026225</td>\n",
       "    </tr>\n",
       "    <tr>\n",
       "      <th>5</th>\n",
       "      <td>172958</td>\n",
       "      <td>Botanical Leaf Tissue Box</td>\n",
       "      <td>0.025877</td>\n",
       "    </tr>\n",
       "    <tr>\n",
       "      <th>6</th>\n",
       "      <td>109334</td>\n",
       "      <td>Majestic Forest Pewter Acorn Salt And Pepper Set</td>\n",
       "      <td>0.025873</td>\n",
       "    </tr>\n",
       "    <tr>\n",
       "      <th>7</th>\n",
       "      <td>148458</td>\n",
       "      <td>Sailboat, Medium</td>\n",
       "      <td>0.025836</td>\n",
       "    </tr>\n",
       "    <tr>\n",
       "      <th>8</th>\n",
       "      <td>148459</td>\n",
       "      <td>Sailboat, Small</td>\n",
       "      <td>0.025526</td>\n",
       "    </tr>\n",
       "    <tr>\n",
       "      <th>9</th>\n",
       "      <td>336051</td>\n",
       "      <td>Bumblebee Candle</td>\n",
       "      <td>0.025458</td>\n",
       "    </tr>\n",
       "    <tr>\n",
       "      <th>10</th>\n",
       "      <td>527412</td>\n",
       "      <td>Vermont Evergreen in Gift Box, 20 Inch</td>\n",
       "      <td>0.025359</td>\n",
       "    </tr>\n",
       "    <tr>\n",
       "      <th>11</th>\n",
       "      <td>148359</td>\n",
       "      <td>Thetford Bowl, Large</td>\n",
       "      <td>0.025306</td>\n",
       "    </tr>\n",
       "    <tr>\n",
       "      <th>12</th>\n",
       "      <td>336045</td>\n",
       "      <td>Orange Blossom Candle</td>\n",
       "      <td>0.025225</td>\n",
       "    </tr>\n",
       "    <tr>\n",
       "      <th>13</th>\n",
       "      <td>526637</td>\n",
       "      <td>Five Sided Evergreen in Gift Box, 18 Inch</td>\n",
       "      <td>0.025045</td>\n",
       "    </tr>\n",
       "    <tr>\n",
       "      <th>14</th>\n",
       "      <td>148341</td>\n",
       "      <td>Barre Carafe, Large</td>\n",
       "      <td>0.024935</td>\n",
       "    </tr>\n",
       "    <tr>\n",
       "      <th>15</th>\n",
       "      <td>412780</td>\n",
       "      <td>Ail Ardoise Kitchen Towel 22\"X30\",100% Cotton</td>\n",
       "      <td>0.024126</td>\n",
       "    </tr>\n",
       "    <tr>\n",
       "      <th>16</th>\n",
       "      <td>188155</td>\n",
       "      <td>Perlina Mug 3.5\" D x 4\"H 11 oz</td>\n",
       "      <td>0.023745</td>\n",
       "    </tr>\n",
       "    <tr>\n",
       "      <th>17</th>\n",
       "      <td>412749</td>\n",
       "      <td>Coq Design Orange Kitchen Towel 22\"X30\",100% C...</td>\n",
       "      <td>0.023669</td>\n",
       "    </tr>\n",
       "    <tr>\n",
       "      <th>18</th>\n",
       "      <td>412782</td>\n",
       "      <td>Citron Vert Acide Kitchen Towel 22\"X30\", 100% ...</td>\n",
       "      <td>0.023481</td>\n",
       "    </tr>\n",
       "    <tr>\n",
       "      <th>19</th>\n",
       "      <td>165384</td>\n",
       "      <td>Excellence Grey Bread &amp; Butter Plate 6\"</td>\n",
       "      <td>0.023419</td>\n",
       "    </tr>\n",
       "  </tbody>\n",
       "</table>\n",
       "</div>"
      ],
      "text/plain": [
       "    PRODUCT_DIM_KEY                                       PRODUCT_NAME  \\\n",
       "0            126746  Bouquet of Flowers Bread & Butter Plate 6.25 i...   \n",
       "1            172921                       Black Orchid Salt and Pepper   \n",
       "2            303918                         Pomegranate Canister Large   \n",
       "3            303920                        Pomegranate Canister Medium   \n",
       "4            172993                                Black Orchid Candle   \n",
       "5            172958                          Botanical Leaf Tissue Box   \n",
       "6            109334   Majestic Forest Pewter Acorn Salt And Pepper Set   \n",
       "7            148458                                   Sailboat, Medium   \n",
       "8            148459                                    Sailboat, Small   \n",
       "9            336051                                   Bumblebee Candle   \n",
       "10           527412             Vermont Evergreen in Gift Box, 20 Inch   \n",
       "11           148359                               Thetford Bowl, Large   \n",
       "12           336045                              Orange Blossom Candle   \n",
       "13           526637          Five Sided Evergreen in Gift Box, 18 Inch   \n",
       "14           148341                                Barre Carafe, Large   \n",
       "15           412780      Ail Ardoise Kitchen Towel 22\"X30\",100% Cotton   \n",
       "16           188155                     Perlina Mug 3.5\" D x 4\"H 11 oz   \n",
       "17           412749  Coq Design Orange Kitchen Towel 22\"X30\",100% C...   \n",
       "18           412782  Citron Vert Acide Kitchen Towel 22\"X30\", 100% ...   \n",
       "19           165384            Excellence Grey Bread & Butter Plate 6\"   \n",
       "\n",
       "       SCORE  \n",
       "0   0.026698  \n",
       "1   0.026629  \n",
       "2   0.026397  \n",
       "3   0.026338  \n",
       "4   0.026225  \n",
       "5   0.025877  \n",
       "6   0.025873  \n",
       "7   0.025836  \n",
       "8   0.025526  \n",
       "9   0.025458  \n",
       "10  0.025359  \n",
       "11  0.025306  \n",
       "12  0.025225  \n",
       "13  0.025045  \n",
       "14  0.024935  \n",
       "15  0.024126  \n",
       "16  0.023745  \n",
       "17  0.023669  \n",
       "18  0.023481  \n",
       "19  0.023419  "
      ]
     },
     "execution_count": 73,
     "metadata": {},
     "output_type": "execute_result"
    }
   ],
   "source": [
    "#ALS\n",
    "get_sim_item(126746)"
   ]
  },
  {
   "cell_type": "code",
   "execution_count": 44,
   "metadata": {},
   "outputs": [],
   "source": [
    "def get_rec_items_model(customer_id, sparse_matrix, customer_list, item_list, item_lookup, num_items = 10, model_name='als'):\n",
    "    if model_name == 'als':\n",
    "        model = AlternatingLeastSquares(factors=80,regularization=0.0001)\n",
    "    elif model_name == 'bpr':\n",
    "        model = BayesianPersonalizedRanking(factors=40,regularization=0.1,learning_rate=0.1)\n",
    "    else:\n",
    "        print('Wrong model name')\n",
    "        return\n",
    "    # The literature suggests values between 0 and 3 for K1 and 0 and 1 for B. \n",
    "    ratings = bm25_weight(product_train, K1= 1, B=0.9).tocsr()\n",
    "    model.fit(product_train*50)\n",
    "    item_vecs = model.user_factors\n",
    "    user_vecs = model.item_factors\n",
    "    store_auc, pop_auc = calc_mean_auc(product_train, product_users_altered, [sparse.csr_matrix(user_vecs), sparse.csr_matrix(item_vecs.T)], product_test)\n",
    "    store_auc, pop_auc\n",
    "    \n",
    "    cust_ind = np.where(customer_list == customer_id)[0][0] # Returns the index row of our customer id\n",
    "    purchased_ind = sparse_matrix[:,cust_ind].nonzero()[0] # Get column indices of purchased items\n",
    "    prod_codes = item_list[purchased_ind] # Get the stock codes for our purchased items\n",
    "    print(prod_codes)\n",
    "    purchased_items = item_lookup.loc[item_lookup.PRODUCT_DIM_KEY.isin(prod_codes)]\n",
    "    \n",
    "    print('-------------------------------------------------------------------------------------')\n",
    "    print('Print purchased items in train set')\n",
    "    print('-------------------------------------------------------------------------------------')\n",
    "    print(tabulate(purchased_items))\n",
    "    print('-------------------------------------------------------------------------------------')\n",
    "    print('Print full actual purchases above threshold')\n",
    "    print('-------------------------------------------------------------------------------------')\n",
    "    print(tabulate(df_lim[df_lim['CUSTOMER_DIM_KEY'] == customer_id]))\n",
    "    print('-------------------------------------------------------------------------------------')\n",
    "    print('Print model recommendations')\n",
    "    print('-------------------------------------------------------------------------------------')\n",
    "    \n",
    "    recom = model.recommend(cust_ind, sparse_matrix.T.tocsr(),filter_items=purchased_ind.tolist(), N= num_items)\n",
    "    rec_keys = [] # start empty list to store items\n",
    "    descriptions = []\n",
    "    for index in recom:\n",
    "        key = item_list[index[0]]\n",
    "        rec_keys.append(key)\n",
    "        descriptions.append(item_lookup.PRODUCT_NAME.loc[item_lookup.PRODUCT_DIM_KEY == key].iloc[0])\n",
    "        \n",
    "    scores = [item[1] for item in recom]\n",
    "    final_frame = pd.DataFrame({'PRODUCT_DIM_KEY': rec_keys, 'PRODUCT_NAME': descriptions, 'SCORE': scores}) # Create a dataframe \n",
    "    final_frame[['PRODUCT_DIM_KEY', 'PRODUCT_NAME','SCORE']]\n",
    "    return final_frame[['PRODUCT_DIM_KEY', 'PRODUCT_NAME','SCORE']] # Switch order of columns around"
   ]
  },
  {
   "cell_type": "code",
   "execution_count": 46,
   "metadata": {},
   "outputs": [
    {
     "data": {
      "application/vnd.jupyter.widget-view+json": {
       "model_id": "0f69f1cdd3c4467f84de0da326666422",
       "version_major": 2,
       "version_minor": 0
      },
      "text/plain": [
       "HBox(children=(FloatProgress(value=0.0), HTML(value='')))"
      ]
     },
     "metadata": {},
     "output_type": "display_data"
    },
    {
     "name": "stdout",
     "output_type": "stream",
     "text": [
      "\n",
      "[126746 126792]\n",
      "-------------------------------------------------------------------------------------\n",
      "Print purchased items in train set\n",
      "-------------------------------------------------------------------------------------\n",
      "-----  ------  -----------------------------------------------------------------------\n",
      "10066  126746  Bouquet of Flowers Bread & Butter Plate 6.25 in Round\n",
      "10943  126792  Old Master Tulips Red, Yellow, & Orange Tulip Salad Plate 7.75 in Round\n",
      "-----  ------  -----------------------------------------------------------------------\n",
      "-------------------------------------------------------------------------------------\n",
      "Print full actual purchases above threshold\n",
      "-------------------------------------------------------------------------------------\n",
      "-----  -----  ------  -  -----------------------------------------------------------------------  -------  ----------------------  --------------------  ---------------  ---------  -----\n",
      "10066  55974  126746  3  Bouquet of Flowers Bread & Butter Plate 6.25 in Round                    Unknown  bread & butter plates   TABLE-SETTINGS-YELLO  Anna Weatherley  COMPLETED  16812\n",
      "10314  55974  126746  2  Bouquet of Flowers Bread & Butter Plate 6.25 in Round                    Unknown  bread & butter plates   TABLE-SETTINGS-YELLO  Anna Weatherley  COMPLETED  16795\n",
      "10943  55974  126792  1  Old Master Tulips Red, Yellow, & Orange Tulip Salad Plate 7.75 in Round  Unknown  salad & dessert plates  OLD-MASTER-TUL-CHAR   Anna Weatherley  COMPLETED  16783\n",
      "11018  55974  126746  1  Bouquet of Flowers Bread & Butter Plate 6.25 in Round                    Unknown  bread & butter plates   TABLE-SETTINGS-YELLO  Anna Weatherley  COMPLETED  16785\n",
      "-----  -----  ------  -  -----------------------------------------------------------------------  -------  ----------------------  --------------------  ---------------  ---------  -----\n",
      "-------------------------------------------------------------------------------------\n",
      "Print model recommendations\n",
      "-------------------------------------------------------------------------------------\n"
     ]
    },
    {
     "data": {
      "text/html": [
       "<div>\n",
       "<style scoped>\n",
       "    .dataframe tbody tr th:only-of-type {\n",
       "        vertical-align: middle;\n",
       "    }\n",
       "\n",
       "    .dataframe tbody tr th {\n",
       "        vertical-align: top;\n",
       "    }\n",
       "\n",
       "    .dataframe thead th {\n",
       "        text-align: right;\n",
       "    }\n",
       "</style>\n",
       "<table border=\"1\" class=\"dataframe\">\n",
       "  <thead>\n",
       "    <tr style=\"text-align: right;\">\n",
       "      <th></th>\n",
       "      <th>PRODUCT_DIM_KEY</th>\n",
       "      <th>PRODUCT_NAME</th>\n",
       "      <th>SCORE</th>\n",
       "    </tr>\n",
       "  </thead>\n",
       "  <tbody>\n",
       "    <tr>\n",
       "      <th>0</th>\n",
       "      <td>303920</td>\n",
       "      <td>Pomegranate Canister Medium</td>\n",
       "      <td>1.034620</td>\n",
       "    </tr>\n",
       "    <tr>\n",
       "      <th>1</th>\n",
       "      <td>303918</td>\n",
       "      <td>Pomegranate Canister Large</td>\n",
       "      <td>0.904881</td>\n",
       "    </tr>\n",
       "    <tr>\n",
       "      <th>2</th>\n",
       "      <td>172921</td>\n",
       "      <td>Black Orchid Salt and Pepper</td>\n",
       "      <td>0.844572</td>\n",
       "    </tr>\n",
       "    <tr>\n",
       "      <th>3</th>\n",
       "      <td>144205</td>\n",
       "      <td>Tattersall Black/Ecru Cotton Woven 2X3</td>\n",
       "      <td>0.806483</td>\n",
       "    </tr>\n",
       "    <tr>\n",
       "      <th>4</th>\n",
       "      <td>566730</td>\n",
       "      <td>Tartan Stainless Steel 24-Pc Setting (6X: Dinn...</td>\n",
       "      <td>0.785877</td>\n",
       "    </tr>\n",
       "    <tr>\n",
       "      <th>5</th>\n",
       "      <td>172993</td>\n",
       "      <td>Black Orchid Candle</td>\n",
       "      <td>0.760418</td>\n",
       "    </tr>\n",
       "    <tr>\n",
       "      <th>6</th>\n",
       "      <td>466527</td>\n",
       "      <td>Alentejo Terracotta 4.75 in Spoon Rest</td>\n",
       "      <td>0.759796</td>\n",
       "    </tr>\n",
       "    <tr>\n",
       "      <th>7</th>\n",
       "      <td>383531</td>\n",
       "      <td>Morning Hunt Pewter Retriever Salt And Pepper Set</td>\n",
       "      <td>0.756801</td>\n",
       "    </tr>\n",
       "    <tr>\n",
       "      <th>8</th>\n",
       "      <td>522523</td>\n",
       "      <td>Nixon Console</td>\n",
       "      <td>0.746710</td>\n",
       "    </tr>\n",
       "    <tr>\n",
       "      <th>9</th>\n",
       "      <td>462281</td>\n",
       "      <td>Elene Cream Rectangular Placemat Glass Beads</td>\n",
       "      <td>0.746562</td>\n",
       "    </tr>\n",
       "    <tr>\n",
       "      <th>10</th>\n",
       "      <td>133468</td>\n",
       "      <td>Rectangular Pave w/Multi-Color Crystals Gold F...</td>\n",
       "      <td>0.740384</td>\n",
       "    </tr>\n",
       "    <tr>\n",
       "      <th>11</th>\n",
       "      <td>467657</td>\n",
       "      <td>Indochine 494 4550F Teal 2' x 3'-4\" Rug</td>\n",
       "      <td>0.728564</td>\n",
       "    </tr>\n",
       "    <tr>\n",
       "      <th>12</th>\n",
       "      <td>462248</td>\n",
       "      <td>Danele Polished Gold Cheese Spreaders, Set Of 4</td>\n",
       "      <td>0.728249</td>\n",
       "    </tr>\n",
       "    <tr>\n",
       "      <th>13</th>\n",
       "      <td>131270</td>\n",
       "      <td>African Jade Letter Opener + Magnifying Glass</td>\n",
       "      <td>0.726926</td>\n",
       "    </tr>\n",
       "    <tr>\n",
       "      <th>14</th>\n",
       "      <td>529227</td>\n",
       "      <td>Emory 855 8661F Atlantic 5' x 8' Rug</td>\n",
       "      <td>0.725329</td>\n",
       "    </tr>\n",
       "    <tr>\n",
       "      <th>15</th>\n",
       "      <td>544559</td>\n",
       "      <td>Palermo 20 Paper Placemats With 20 Paper Dinne...</td>\n",
       "      <td>0.716087</td>\n",
       "    </tr>\n",
       "    <tr>\n",
       "      <th>16</th>\n",
       "      <td>346262</td>\n",
       "      <td>Rocaille White Dinner Plate 11 In Dia</td>\n",
       "      <td>0.713617</td>\n",
       "    </tr>\n",
       "    <tr>\n",
       "      <th>17</th>\n",
       "      <td>336051</td>\n",
       "      <td>Bumblebee Candle</td>\n",
       "      <td>0.699880</td>\n",
       "    </tr>\n",
       "    <tr>\n",
       "      <th>18</th>\n",
       "      <td>298647</td>\n",
       "      <td>Centera 20 x 26 Standard Pillow</td>\n",
       "      <td>0.692321</td>\n",
       "    </tr>\n",
       "    <tr>\n",
       "      <th>19</th>\n",
       "      <td>349740</td>\n",
       "      <td>Wallflower Sham Standard</td>\n",
       "      <td>0.690458</td>\n",
       "    </tr>\n",
       "  </tbody>\n",
       "</table>\n",
       "</div>"
      ],
      "text/plain": [
       "    PRODUCT_DIM_KEY                                       PRODUCT_NAME  \\\n",
       "0            303920                        Pomegranate Canister Medium   \n",
       "1            303918                         Pomegranate Canister Large   \n",
       "2            172921                       Black Orchid Salt and Pepper   \n",
       "3            144205             Tattersall Black/Ecru Cotton Woven 2X3   \n",
       "4            566730  Tartan Stainless Steel 24-Pc Setting (6X: Dinn...   \n",
       "5            172993                                Black Orchid Candle   \n",
       "6            466527             Alentejo Terracotta 4.75 in Spoon Rest   \n",
       "7            383531  Morning Hunt Pewter Retriever Salt And Pepper Set   \n",
       "8            522523                                      Nixon Console   \n",
       "9            462281       Elene Cream Rectangular Placemat Glass Beads   \n",
       "10           133468  Rectangular Pave w/Multi-Color Crystals Gold F...   \n",
       "11           467657            Indochine 494 4550F Teal 2' x 3'-4\" Rug   \n",
       "12           462248    Danele Polished Gold Cheese Spreaders, Set Of 4   \n",
       "13           131270      African Jade Letter Opener + Magnifying Glass   \n",
       "14           529227               Emory 855 8661F Atlantic 5' x 8' Rug   \n",
       "15           544559  Palermo 20 Paper Placemats With 20 Paper Dinne...   \n",
       "16           346262              Rocaille White Dinner Plate 11 In Dia   \n",
       "17           336051                                   Bumblebee Candle   \n",
       "18           298647                    Centera 20 x 26 Standard Pillow   \n",
       "19           349740                           Wallflower Sham Standard   \n",
       "\n",
       "       SCORE  \n",
       "0   1.034620  \n",
       "1   0.904881  \n",
       "2   0.844572  \n",
       "3   0.806483  \n",
       "4   0.785877  \n",
       "5   0.760418  \n",
       "6   0.759796  \n",
       "7   0.756801  \n",
       "8   0.746710  \n",
       "9   0.746562  \n",
       "10  0.740384  \n",
       "11  0.728564  \n",
       "12  0.728249  \n",
       "13  0.726926  \n",
       "14  0.725329  \n",
       "15  0.716087  \n",
       "16  0.713617  \n",
       "17  0.699880  \n",
       "18  0.692321  \n",
       "19  0.690458  "
      ]
     },
     "execution_count": 46,
     "metadata": {},
     "output_type": "execute_result"
    }
   ],
   "source": [
    "get_rec_items_model(55974, product_test, customers_arr, products_arr, item_lookup, num_items = 20, model_name='bpr')"
   ]
  },
  {
   "cell_type": "code",
   "execution_count": null,
   "metadata": {},
   "outputs": [],
   "source": []
  }
 ],
 "metadata": {
  "kernelspec": {
   "display_name": "Python 3",
   "language": "python",
   "name": "python3"
  },
  "language_info": {
   "codemirror_mode": {
    "name": "ipython",
    "version": 3
   },
   "file_extension": ".py",
   "mimetype": "text/x-python",
   "name": "python",
   "nbconvert_exporter": "python",
   "pygments_lexer": "ipython3",
   "version": "3.7.6"
  }
 },
 "nbformat": 4,
 "nbformat_minor": 4
}
